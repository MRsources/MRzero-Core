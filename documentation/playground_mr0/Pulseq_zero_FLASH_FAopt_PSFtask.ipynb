{
  "cells": [
    {
      "cell_type": "code",
      "execution_count": null,
      "metadata": {
        "id": "BhFsutTHboXq"
      },
      "outputs": [],
      "source": [
        "!pip install pulseqzero &> /dev/null\n",
        "!pip install MRzeroCore &> /dev/null\n",
        "!pip install ismrmrd\n",
        "\n",
        "!wget https://github.com/MRsources/MRzero-Core/raw/main/documentation/playground_mr0/numerical_brain_cropped.mat &> /dev/null"
      ]
    },
    {
      "cell_type": "code",
      "execution_count": null,
      "metadata": {
        "colab": {
          "base_uri": "https://localhost:8080/",
          "height": 461
        },
        "id": "jr1YZ6HIbelq",
        "outputId": "b36a7608-b2e5-4e2d-b11e-72f24c78a4b9"
      },
      "outputs": [],
      "source": [
        "# @title On Google Colab, you need to restart the runtime after executing this cell\n",
        "!pip install numpy==1.24"
      ]
    },
    {
      "cell_type": "markdown",
      "metadata": {
        "id": "OZmtFLnIF3Fc"
      },
      "source": [
        "(FLASH_FAopt_PSF)=\n",
        "# Pulseq-zero Demo\n",
        "Pulseq-zero combines Pusleq and MR-zero and allows you to optimize a Pulseq sequence dirrectly.\n",
        "\n",
        "For example, herein we want to optimize the variable flip angles of a single shot FLASH sequence to improve the PSF to achieve the sharpness of a multi-shot FLASH\n",
        "\n",
        "\n",
        "###First,###\n",
        "we now need to define a FLASH sequence as function with parameters we wish to optimize as arguments:"
      ]
    },
    {
      "cell_type": "markdown",
      "metadata": {
        "id": "bj6sAIHkbxiq"
      },
      "source": [
        "# 2D FLASH - flipangle optimization\n"
      ]
    },
    {
      "cell_type": "code",
      "execution_count": null,
      "metadata": {
        "colab": {
          "base_uri": "https://localhost:8080/"
        },
        "id": "1XVlzIHDbv5L",
        "outputId": "c23babeb-527c-44ea-eb4d-32aa0c59482b"
      },
      "outputs": [],
      "source": [
        "import numpy as np\n",
        "import torch\n",
        "import matplotlib.pyplot as plt\n",
        "from matplotlib import cm\n",
        "\n",
        "import MRzeroCore as mr0\n",
        "import pulseqzero\n",
        "pp = pulseqzero.pp_impl"
      ]
    },
    {
      "cell_type": "code",
      "execution_count": null,
      "metadata": {
        "id": "Bu0IO8d1Wlp0"
      },
      "outputs": [],
      "source": [
        "# @title FLASH sequence definition\n",
        "\n",
        "def flash(fov=200e-3,\n",
        "          slice_thickness=8e-3,\n",
        "          Nread=64,   # frequency encoding steps/samples\n",
        "          Nphase=64,  # phase encoding steps/samples\n",
        "          dwell_time=10e-5,\n",
        "          shots = 1,\n",
        "          fa_readout=7*torch.pi/180, # readout flip angle\n",
        "          Trec=15, # delay time after the execution of each shot\n",
        "          system=None\n",
        "          ):\n",
        "\n",
        "  # =====\n",
        "  # default system settings\n",
        "  # =====\n",
        "\n",
        "  if system is None:\n",
        "    system = pp.Opts(max_grad=80,\n",
        "                     grad_unit='mT/m',\n",
        "                     max_slew=200,\n",
        "                     slew_unit='T/m/s')\n",
        "\n",
        "  # =====\n",
        "  # Handle parameter fa_readout: for optimization purposes needs to be torch.tensor\n",
        "  # =====\n",
        "\n",
        "  # neccesary size of fa_readout tensor\n",
        "  fa_readout_size = int(Nphase/shots)\n",
        "\n",
        "  # catch input of a single readout flip angle and transofrm to tensor\n",
        "  if type(fa_readout) == float:\n",
        "    fa_readout = torch.full((fa_readout_size,), fa_readout)\n",
        "\n",
        "  # check if fa_readout is tensor object\n",
        "  if isinstance(fa_readout, torch.Tensor):\n",
        "    # chek if length is correct, fa_readout is a one dimensional tensor\n",
        "    if fa_readout.size(0) != fa_readout_size:\n",
        "      raise ValueError(\"Parameter fa_readout is of impropper size\")\n",
        "\n",
        "  # =====\n",
        "  # Define rf events\n",
        "  # =====\n",
        "\n",
        "  rf1, _, _ = pp.make_sinc_pulse(\n",
        "      flip_angle=10 * np.pi / 180, duration=1e-3,\n",
        "      slice_thickness=slice_thickness, apodization=0.5, time_bw_product=4,\n",
        "      system=system, return_gz=True\n",
        "  )\n",
        "  # rf1 = pp.make_block_pulse(flip_angle=90 * np.pi / 180, duration=1e-3, system=system)\n",
        "\n",
        "  # =====\n",
        "  # Define other gradients and ADC events\n",
        "  # =====\n",
        "\n",
        "  gx = pp.make_trapezoid(channel='x', flat_area=Nread / fov, flat_time=Nread*dwell_time, system=system)\n",
        "  adc = pp.make_adc(num_samples=Nread, duration=Nread*dwell_time, phase_offset=0 * np.pi/180, delay=gx.rise_time, system=system)\n",
        "  gx_pre = pp.make_trapezoid(channel='x', area=-gx.area / 2, duration=1e-3, system=system)\n",
        "  gx_spoil = pp.make_trapezoid(channel='x', area=1.5 * gx.area, duration=2e-3, system=system)\n",
        "\n",
        "  rf_phase = 0\n",
        "  rf_inc = 0\n",
        "  rf_spoiling_inc = 84\n",
        "\n",
        "  # ======\n",
        "  # CONSTRUCT SEQUENCE\n",
        "  # ======\n",
        "\n",
        "  seq = pp.Sequence()\n",
        "\n",
        "  ## centric reordering\n",
        "  phenc = np.arange(-Nphase // 2, Nphase // 2, 1) / fov\n",
        "  permvec = sorted(np.arange(len(phenc)), key=lambda x: abs(len(phenc) // 2 - x))\n",
        "\n",
        "  phenc_centr = phenc[permvec]\n",
        "  encoding = []\n",
        "\n",
        "  for shot in range(shots):\n",
        "\n",
        "    if Trec > 0:\n",
        "        seq.add_block(pp.make_delay(Trec))\n",
        "\n",
        "    for ii in range(0, int(Nphase/shots)):  # e.g. -64:63\n",
        "\n",
        "        rf1, _, _  = pp.make_sinc_pulse(flip_angle=fa_readout[ii],\n",
        "                                 duration=1e-3,\n",
        "                                 slice_thickness=slice_thickness,\n",
        "                                 apodization=0.5,\n",
        "                                 time_bw_product=4,\n",
        "                                 system=system,\n",
        "                                 return_gz=True\n",
        "                                )\n",
        "\n",
        "        rf1.phase_offset = rf_phase / 180 * np.pi   # set current rf phase\n",
        "        adc.phase_offset = rf_phase / 180 * np.pi  # follow with ADC\n",
        "        rf_inc = divmod(rf_inc + rf_spoiling_inc, 360.0)[1]   # increase increment\n",
        "        # increment additional phase\n",
        "        rf_phase = divmod(rf_phase + rf_inc, 360.0)[1]\n",
        "        seq.add_block(rf1)\n",
        "        gp = pp.make_trapezoid(channel='y', area=phenc_centr[ii*shots+shot], duration=1e-3, system=system)\n",
        "\n",
        "        encoding.append(phenc_centr[ii*shots+shot]*fov)\n",
        "\n",
        "        seq.add_block(gx_pre, gp)\n",
        "        seq.add_block(adc, gx)\n",
        "        gp = pp.make_trapezoid(channel='y', area=-phenc_centr[ii*shots+shot], duration=1e-3, system=system)\n",
        "        seq.add_block(gx_spoil, gp)\n",
        "\n",
        "  return seq, encoding"
      ]
    },
    {
      "cell_type": "code",
      "execution_count": null,
      "metadata": {
        "id": "n538Kat3QDh_"
      },
      "outputs": [],
      "source": [
        "# @title image reconstruction via FFT\n",
        "\n",
        "def reconstruction(signal, encoding, Nread, Nphase):\n",
        "  # reconstruct image\n",
        "  kspace = torch.reshape((signal), (Nread, Nphase)).clone().t()\n",
        "  encoding = np.stack(encoding)\n",
        "  ipermvec = np.argsort(encoding)\n",
        "  kspace=kspace[:,ipermvec]\n",
        "\n",
        "  # fftshift FFT fftshift\n",
        "  spectrum = torch.fft.fftshift(kspace)\n",
        "  space = torch.fft.fft2(spectrum)\n",
        "  space = torch.fft.ifftshift(space)\n",
        "\n",
        "  return space"
      ]
    },
    {
      "cell_type": "code",
      "execution_count": null,
      "metadata": {
        "id": "BSgniJPaT5gx"
      },
      "outputs": [],
      "source": [
        "# @title ploting functions for optimization steps and results\n",
        "\n",
        "def plot_results_images(target, init, result=None, finished=False, colorbars=False):\n",
        "\n",
        "  # show target, initial and optimized image on common colorscale\n",
        "  if result is None:\n",
        "    vmin = min(target.min(), init.min())\n",
        "    vmax = max(target.max(), init.max())\n",
        "  else:\n",
        "    vmin = min(target.min(), init.min(), result.min())\n",
        "    vmax = max(target.max(), init.max(), result.max())\n",
        "\n",
        "  plt.subplot(131)\n",
        "  plt.title(\"optimizer target\")\n",
        "  plt.axis('off')\n",
        "  mr0.util.imshow(target, vmin=vmin, vmax=vmax, cmap=cm.gray)\n",
        "  if colorbars: plt.colorbar(cmap='gray')\n",
        "\n",
        "  plt.subplot(132)\n",
        "  plt.title(\"initial image\")\n",
        "  plt.axis('off')\n",
        "  mr0.util.imshow(init, vmin=vmin, vmax=vmax, cmap=cm.gray)\n",
        "  if colorbars: plt.colorbar(cmap='gray')\n",
        "\n",
        "  if result is not None:\n",
        "    plt.subplot(133)\n",
        "    if finished: plt.title(\"optimizer result\")\n",
        "    else: plt.title(\"optimizer step\")\n",
        "    plt.axis('off')\n",
        "    mr0.util.imshow(result, vmin=vmin, vmax=vmax, cmap=cm.gray)\n",
        "    if colorbars: plt.colorbar(cmap='gray')\n",
        "\n",
        "  plt.show()\n",
        "\n",
        "def plot_optimizer_history(loss_hist, param_hist, finished=False):\n",
        "    plt.subplot(121)\n",
        "    plt.title(\"Loss\")\n",
        "    plt.xlabel(\"itertation\")\n",
        "    plt.plot([l / loss_hist[0] for l in loss_hist], label=\"loss\")\n",
        "    if finished:\n",
        "      plt.plot([np.argmin(loss_hist)], [[l / loss_hist[0] for l in loss_hist][np.argmin(loss_hist)]], \"rx\", label=\"optimum\")\n",
        "      plt.legend()\n",
        "    plt.grid()\n",
        "\n",
        "    plt.subplot(122)\n",
        "    plt.xlabel(\"repetition\")\n",
        "    plt.ylabel(\"FA\")\n",
        "    plt.title(\"Optim. param\")\n",
        "    if finished: plt.plot(np.array(param_hist).T)\n",
        "    else: plt.plot(np.array(param_hist[-2:]).T) # only plot current and last flip angle configuration\n",
        "    plt.gca().yaxis.tick_right()\n",
        "    plt.grid()\n",
        "\n",
        "    plt.show()\n",
        "\n",
        "def plot_optimized_flipangles(fa_optimized):\n",
        "  plt.plot(fa_optimized, \"o--\")\n",
        "  plt.xlabel(\"repetition\")\n",
        "  plt.ylabel(\"FA [deg]\")\n",
        "  plt.title(\"Optimized readout flip angle train\")\n",
        "  plt.gca().yaxis.tick_right()\n",
        "  plt.grid()\n",
        "  plt.show()"
      ]
    },
    {
      "cell_type": "code",
      "execution_count": null,
      "metadata": {
        "id": "Gpso_OR7HrSu"
      },
      "outputs": [],
      "source": [
        "# @title setup spin system\n",
        "\n",
        "obj_p = mr0.util.load_phantom([96,96])\n"
      ]
    },
    {
      "cell_type": "code",
      "execution_count": null,
      "metadata": {
        "colab": {
          "base_uri": "https://localhost:8080/",
          "height": 406
        },
        "id": "2mW6J77xofiX",
        "outputId": "73230f13-52ad-4d9d-cbd4-80a41a11d9f5"
      },
      "outputs": [],
      "source": [
        "# @title Generate optimization target\n",
        "\n",
        "shots = 64\n",
        "fa_readout = 8.0*torch.pi/180\n",
        "Nread = 64\n",
        "Nphase = 64\n",
        "with pulseqzero.mr0_mode():\n",
        "  seq, encoding = flash(fa_readout=fa_readout, shots=shots, Nread=Nread, Nphase=Nphase)\n",
        "\n",
        "  seq0 = seq.to_mr0()\n",
        "  signal,_ = mr0.util.simulate(seq0,obj_p,accuracy=1e-4)\n",
        "\n",
        "# reconstruct image\n",
        "space = reconstruction(signal, encoding, Nread, Nphase)\n",
        "\n",
        "# plot result\n",
        "plt.subplot(121)\n",
        "plt.title('FFT-magnitude')\n",
        "mr0.util.imshow(np.abs(space.numpy()), cmap=cm.gray)\n",
        "plt.colorbar()\n",
        "\n",
        "# store target for optimization\n",
        "target = torch.abs(space)"
      ]
    },
    {
      "cell_type": "code",
      "execution_count": null,
      "metadata": {
        "colab": {
          "base_uri": "https://localhost:8080/",
          "height": 205
        },
        "id": "ZkcEf4CXoxsE",
        "outputId": "dcdf87ed-4371-4101-8118-d6a6683181e9"
      },
      "outputs": [],
      "source": [
        "# @title Simulate the inital image before optimization\n",
        "\n",
        "shots = 1\n",
        "fa_readout = torch.full((Nphase,), 8.0*torch.pi/180, requires_grad=True)\n",
        "\n",
        "# simulate inital image\n",
        "with pulseqzero.mr0_mode():\n",
        "    seq, encoding = flash(fa_readout=fa_readout, shots=shots, Nread=Nread, Nphase=Nphase)\n",
        "\n",
        "    seq0 = seq.to_mr0()\n",
        "    signal,_ = mr0.util.simulate(seq0,obj_p,accuracy=1e-4)\n",
        "\n",
        "# reconstruct image\n",
        "space = reconstruction(signal, encoding, Nread, Nphase)\n",
        "init = torch.abs(space) # current optimizer step image\n",
        "\n",
        "plot_results_images(target, init)"
      ]
    },
    {
      "cell_type": "code",
      "execution_count": null,
      "metadata": {
        "colab": {
          "base_uri": "https://localhost:8080/",
          "height": 1000
        },
        "id": "E-IRPpNFWPJr",
        "outputId": "1fe03bcb-7563-4cd0-ab0d-cbb5e222e2c8"
      },
      "outputs": [],
      "source": [
        "# @title Perform optimization\n",
        "\n",
        "# initalize optimizer\n",
        "iterations = 100\n",
        "params = [{\"params\": fa_readout, \"lr\": 0.01}]  # adjust learning rate as needed\n",
        "optimizer = torch.optim.Adam(params)\n",
        "\n",
        "loss_hist = []\n",
        "FA_readout_hist = []\n",
        "\n",
        "# optimization loop\n",
        "for i in range(iterations):\n",
        "\n",
        "    optimizer.zero_grad()\n",
        "\n",
        "    # ====\n",
        "    # simulate\n",
        "    # ====\n",
        "\n",
        "    with pulseqzero.mr0_mode():\n",
        "      seq, encoding = flash(fa_readout=fa_readout, shots=shots, Nread=Nread, Nphase=Nphase)\n",
        "\n",
        "      seq0 = seq.to_mr0()\n",
        "\n",
        "      if i%5 == 0:\n",
        "        graph = mr0.compute_graph(seq0, obj_p.build(), 100000, 1e-4)\n",
        "\n",
        "      signal = mr0.execute_graph(graph, seq0, obj_p.build(), 1e-4, 1e-4)\n",
        "\n",
        "    # reconstruct image\n",
        "    space = reconstruction(signal, encoding, Nread, Nphase)\n",
        "    image = torch.abs(space) # current optimizer step image\n",
        "\n",
        "\n",
        "    # ====\n",
        "    # loss computation\n",
        "    # ====\n",
        "\n",
        "    loss = ((image - target)**2).mean()\n",
        "    print(f\"{i+1} / {iterations}: loss={loss.item()}, fa_readout={fa_readout.detach().numpy() * 180/torch.pi}\")\n",
        "\n",
        "    loss_hist.append(loss.item())\n",
        "    FA_readout_hist.append(fa_readout.detach().numpy().copy()*180/torch.pi)\n",
        "\n",
        "    # ====\n",
        "    # perform optimizer step\n",
        "    # ====\n",
        "\n",
        "    loss.backward()\n",
        "    optimizer.step()\n",
        "\n",
        "    # plot images\n",
        "    plot_results_images(target, init, image)\n",
        "\n",
        "    # optimization timeline\n",
        "    plot_optimizer_history(loss_hist, FA_readout_hist)"
      ]
    },
    {
      "cell_type": "code",
      "execution_count": null,
      "metadata": {
        "colab": {
          "base_uri": "https://localhost:8080/",
          "height": 1000
        },
        "id": "qkibMI6Do3E7",
        "outputId": "296bbb90-23cd-47a0-bb15-50bdf6397d46"
      },
      "outputs": [],
      "source": [
        "# @title Evaluate optimization result\n",
        "\n",
        "# simute optimizer result: optimal flip angle configuration\n",
        "with pulseqzero.mr0_mode():\n",
        "  seq, encoding = flash(fa_readout=FA_readout_hist[np.argmin(loss_hist)]*torch.pi/180, shots=1, Nread=Nphase, Nphase=Nphase)\n",
        "\n",
        "  seq0 = seq.to_mr0()\n",
        "  graph = mr0.compute_graph(seq0, obj_p.build(), 100000, 1e-8)\n",
        "  signal = mr0.execute_graph(graph, seq0, obj_p.build(), 1e-8, 1e-8)  # high accuracy to check if more states are neccesary\n",
        "\n",
        "  # reconstruct image\n",
        "  space = reconstruction(signal, encoding, Nread, Nphase)\n",
        "  result = torch.abs(space) # current optiumizer step image\n",
        "\n",
        "# ====\n",
        "# plot results\n",
        "# ====\n",
        "\n",
        "# images\n",
        "plot_results_images(target, init, result, finished=True)\n",
        "\n",
        "# optimization timeline\n",
        "plot_optimizer_history(loss_hist, FA_readout_hist, finished=True)\n",
        "\n",
        "# optimized flip angle configuration\n",
        "plot_optimized_flipangles(FA_readout_hist[np.argmin(loss_hist)])"
      ]
    }
  ],
  "metadata": {
    "colab": {
      "provenance": []
    },
    "kernelspec": {
      "display_name": "Python 3",
      "name": "python3"
    },
    "language_info": {
      "name": "python"
    }
  },
  "nbformat": 4,
  "nbformat_minor": 0
}
