{
 "cells": [
  {
   "cell_type": "markdown",
   "metadata": {},
   "source": [
    "<a href=\"https://colab.research.google.com/github/MRsources/MRzero-Core/blob/main/documentation/playground_mr0/pulseq_sim_pTx.ipynb\" target=\"_parent\"><img src=\"https://colab.research.google.com/assets/colab-badge.svg\" alt=\"Open In Colab\"/></a>"
   ]
  },
  {
   "cell_type": "code",
   "execution_count": null,
   "metadata": {
    "colab": {
     "base_uri": "https://localhost:8080/",
     "height": 257
    },
    "id": "O-_sr6lZjR_n",
    "outputId": "52bb3cab-4dbf-45d5-aaed-0e05f5d14128",
    "tags": [
     "hide-cell"
    ]
   },
   "outputs": [],
   "source": [
    "!pip install pypulseq==1.3.1.post1 &> /dev/null\n",
    "!pip install MRzeroCore &> /dev/null\n",
    "!wget https://github.com/MRsources/MRzero-Core/raw/main/documentation/playground_mr0/subject05.npz &> /dev/null\n",
    "!wget https://github.com/MRsources/MRzero-Core/raw/main/documentation/playground_mr0/AdjDataUser2gB0_transversal_0.08moving_average.mat &> /dev/null"
   ]
  },
  {
   "cell_type": "code",
   "execution_count": null,
   "metadata": {},
   "outputs": [],
   "source": [
    "# @title On Google Colab, you need to restart the runtime after executing this cell\n",
    "!pip install numpy==1.24"
   ]
  },
  {
   "cell_type": "code",
   "execution_count": null,
   "metadata": {},
   "outputs": [],
   "source": [
    "import MRzeroCore as mr0\n",
    "import matplotlib.pyplot as plt\n",
    "import numpy as np\n",
    "import scipy.io\n",
    "import torch\n",
    "from torch.nn.functional import interpolate"
   ]
  },
  {
   "attachments": {},
   "cell_type": "markdown",
   "metadata": {},
   "source": [
    "(pulseq_pTx_sim)=\n",
    "\n",
    "# Simulating a pTx .seq with MR0"
   ]
  },
  {
   "cell_type": "code",
   "execution_count": null,
   "metadata": {},
   "outputs": [],
   "source": [
    "# Create a phantom by merging BrainWeb and adj data\n",
    "phantom = mr0.VoxelGridPhantom.brainweb(\"subject05.npz\")\n",
    "phantom = phantom.interpolate(64, 64, 32).slices([15])\n",
    "mask = phantom.PD[:, :, 0] > 1e-3\n",
    "\n",
    "# Extract necessary data from the MATLAB .mat file\n",
    "file = scipy.io.loadmat(\"AdjDataUser2gB0_transversal_0.08moving_average.mat\")[\"Adj\"]\n",
    "size = (file[\"image_m\"][0, 0][0, 0], file[\"image_n\"][0, 0][0, 0], file[\"slices\"][0, 0][0, 0])\n",
    "coil_count = file[\"coils\"][0, 0][0, 0]\n",
    "voxel_pos = np.stack(np.meshgrid(file[\"values_m\"][0, 0], file[\"values_n\"][0, 0], file[\"values_s\"][0, 0]), -1)\n",
    "\n",
    "# Crop and interpolate B0 data to roughly fit BrainWeb\n",
    "B0 = torch.tensor(file[\"B0\"][0, 0][:, :, size[2] // 2], dtype=torch.float)\n",
    "B0 = B0[27:61, 20:54].flip(0).T\n",
    "B0 = interpolate(\n",
    "    B0[None, None, :, :], (64, 64), mode=\"area\"\n",
    ")[0, 0, :, :, None]\n",
    "\n",
    "# Crop and interpolate B1 data to roughly fit BrainWeb\n",
    "B1 = torch.tensor(file[\"S\"][0, 0][:, :, size[2] // 2], dtype=torch.cfloat).T.reshape(-1, size[0], size[1])\n",
    "B1 = B1[:, 27:61, 20:54].flip(2)\n",
    "B1 = (\n",
    "    interpolate(B1.real[:, None, :, :], (64, 64), mode=\"area\")[:, 0, :, :, None]\n",
    "    + 1j * interpolate(B1.imag[:, None, :, :], (64, 64), mode=\"area\")[:, 0, :, :, None]\n",
    ")\n",
    "\n",
    "B0[~mask] = 0\n",
    "B1[:, ~mask] = 0\n",
    "B0 -= B0[mask].mean()\n",
    "\n",
    "normalize = False\n",
    "if normalize:\n",
    "    # Remove phase from B1\n",
    "    for i in range(coil_count):\n",
    "        B1[i, ...] *= torch.exp(-1j * B1[i, mask].mean().angle())\n",
    "    # Normalize B1 so that quadrature mode has a mean of abs = 1 and phase = 0\n",
    "    B1 *= np.exp(-1j * B1.sum(0)[mask].mean().angle()) / B1.sum(0)[mask].mean().abs()\n",
    "\n",
    "phantom.B0 = B0\n",
    "phantom.B1 = B1"
   ]
  },
  {
   "cell_type": "code",
   "execution_count": null,
   "metadata": {
    "id": "HTYTghFLjeCY",
    "tags": [
     "hide-output"
    ]
   },
   "outputs": [],
   "source": [
    "data = phantom.build()\n",
    "\n",
    "# NOTE: this currently doesn't work in Colab\n",
    "\n",
    "# New importer does not have the pTx extension yet, so use the old one and\n",
    "# revert the FOV scaling of gradients\n",
    "seq = mr0.Sequence.from_seq_file(\"seqs/flash pTx CP.seq\")\n",
    "seq.plot_kspace_trajectory()\n",
    "for rep in seq:\n",
    "    rep.gradm[:, 0] /= 0.2\n",
    "    rep.gradm[:, 1] /= 0.2\n",
    "\n",
    "# Simulate the sequence\n",
    "graph = mr0.compute_graph(seq, data, 200, 1e-3)\n",
    "signal = mr0.execute_graph(graph, seq, data, print_progress=False)"
   ]
  },
  {
   "cell_type": "code",
   "execution_count": null,
   "metadata": {
    "id": "uLlcta8qwU5L"
   },
   "outputs": [],
   "source": [
    "reco = mr0.reco_adjoint(signal, seq.get_kspace(), resolution=(64, 64, 1), FOV=(0.2, 0.2, 1))\n",
    "\n",
    "plt.figure(figsize=(7, 3), dpi=200)\n",
    "plt.subplot(121)\n",
    "plt.title(\"Magnitude\")\n",
    "plt.imshow(reco[:, :, 0].T.abs(), origin=\"lower\", vmin=0, cmap=\"gray\")\n",
    "plt.colorbar()\n",
    "plt.subplot(122)\n",
    "plt.title(\"Phase\")\n",
    "plt.imshow(reco[:, :, 0].T.angle(), origin=\"lower\", vmin=-np.pi, vmax=np.pi, cmap=\"twilight\")\n",
    "plt.colorbar()\n",
    "plt.show()"
   ]
  }
 ],
 "metadata": {
  "colab": {
   "provenance": []
  },
  "kernelspec": {
   "display_name": "Python 3",
   "name": "python3"
  },
  "language_info": {
   "codemirror_mode": {
    "name": "ipython",
    "version": 3
   },
   "file_extension": ".py",
   "mimetype": "text/x-python",
   "name": "python",
   "nbconvert_exporter": "python",
   "pygments_lexer": "ipython3",
   "version": "3.11.3"
  }
 },
 "nbformat": 4,
 "nbformat_minor": 0
}
