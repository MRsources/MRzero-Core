{
 "cells": [
  {
   "cell_type": "code",
   "execution_count": null,
   "metadata": {
    "colab": {
     "base_uri": "https://localhost:8080/",
     "height": 401
    },
    "executionInfo": {
     "elapsed": 52237,
     "status": "ok",
     "timestamp": 1698742386889,
     "user": {
      "displayName": "Moritz Zaiss",
      "userId": "13462394581901772323"
     },
     "user_tz": -60
    },
    "id": "vTjDmgyofjbF",
    "outputId": "47d34dc6-9bf1-489a-dbd9-0c0ffd9a5374",
    "tags": [
     "hide-cell"
    ]
   },
   "outputs": [],
   "source": [
    "!pip install pypulseq==1.3.1.post1 &> /dev/null\n",
    "!pip install nevergrad &> /dev/null\n",
    "!pip install ismrmrd\n",
    "!pip install MRzeroCore &> /dev/null\n",
    "!wget https://github.com/MRsources/MRzero-Core/raw/main/documentation/playground_mr0/numerical_brain_cropped.mat &> /dev/null"
   ]
  },
  {
   "cell_type": "code",
   "execution_count": null,
   "metadata": {
    "colab": {
     "base_uri": "https://localhost:8080/",
     "height": 401
    },
    "executionInfo": {
     "elapsed": 52237,
     "status": "ok",
     "timestamp": 1698742386889,
     "user": {
      "displayName": "Moritz Zaiss",
      "userId": "13462394581901772323"
     },
     "user_tz": -60
    },
    "id": "vTjDmgyofjbF",
    "outputId": "47d34dc6-9bf1-489a-dbd9-0c0ffd9a5374",
    "tags": [
     "hide-cell"
    ]
   },
   "outputs": [],
   "source": [
    "# @title On Google Colab, you need to restart the runtime after executing this cell\n",
    "!pip install numpy==1.24"
   ]
  },
  {
   "cell_type": "markdown",
   "metadata": {},
   "source": [
    "(mr00_FLASH_2D_ernstAngle_opt)=\n",
    "# Ernst angle optimization"
   ]
  },
  {
   "cell_type": "code",
   "execution_count": null,
   "metadata": {
    "colab": {
     "base_uri": "https://localhost:8080/",
     "height": 400
    },
    "executionInfo": {
     "elapsed": 6003,
     "status": "error",
     "timestamp": 1698682962173,
     "user": {
      "displayName": "Moritz Zaiss",
      "userId": "13462394581901772323"
     },
     "user_tz": -60
    },
    "id": "O-_sr6lZjR_n",
    "outputId": "bb12a7b4-904c-476a-db10-675bdc772583",
    "scrolled": true
   },
   "outputs": [],
   "source": [
    "#@title setup basic sequence params & phantom\n",
    "# %% S0. SETUP env\n",
    "import MRzeroCore as mr0\n",
    "import numpy as np\n",
    "\n",
    "import pypulseq as pp\n",
    "import torch\n",
    "import matplotlib.pyplot as plt\n",
    "\n",
    "import nevergrad as ng\n",
    "\n",
    "from IPython.display import clear_output\n",
    "\n",
    "plt.rcParams['figure.figsize'] = [10, 5]\n",
    "plt.rcParams['figure.dpi'] = 100 # 200 e.g. is really fine, but slower\n",
    "\n",
    "\n",
    "\n",
    "# %% S1. SETUP sys\n",
    "\n",
    "# choose the scanner limits\n",
    "system = pp.Opts(max_grad=28,grad_unit='mT/m',max_slew=150,slew_unit='T/m/s',\n",
    "                 rf_ringdown_time=20e-6,rf_dead_time=100e-6,adc_dead_time=20e-6,grad_raster_time=50*10e-6)\n",
    "\n",
    "# Define FOV and resolution\n",
    "fov = 200e-3\n",
    "slice_thickness = 8e-3\n",
    "sz = (32, 32)   # spin system size / resolution\n",
    "Nread = 64    # frequency encoding steps/samples\n",
    "Nphase = 64    # phase encoding steps/samples\n",
    "\n",
    "# %% S4: SETUP SPIN SYSTEM/object on which we can run the MR sequence external.seq from above\n",
    "\n",
    "sz = [64, 64]\n",
    "# (i) load a phantom object from file\n",
    "obj_p = mr0.VoxelGridPhantom.load_mat('numerical_brain_cropped.mat')\n",
    "obj_p = obj_p.interpolate(sz[0], sz[1], 1)\n",
    "# Manipulate loaded data\n",
    "obj_p.T2dash[:] = 30e-3\n",
    "obj_p.D *= 0\n",
    "obj_p.B0 *= 1    # alter the B0 inhomogeneity\n",
    "# Store PD and B0 for comparison\n",
    "PD = obj_p.PD\n",
    "B0 = obj_p.B0\n",
    "obj_p.plot()\n",
    "# Convert Phantom into simulation data\n",
    "obj_p = obj_p.build()"
   ]
  },
  {
   "cell_type": "code",
   "execution_count": null,
   "metadata": {
    "id": "CUAKk_RaSXaQ"
   },
   "outputs": [],
   "source": [
    "#@title set up functions for generating, simulating and reconstructing FLASH sequence\n",
    "def ifft2d(x):\n",
    "    x = torch.fft.fftshift(x)\n",
    "    x = torch.fft.ifft2(x)\n",
    "    x = torch.fft.ifftshift(x)\n",
    "    return x\n",
    "\n",
    "def fft2d(x):\n",
    "    x = torch.fft.ifftshift(x)\n",
    "    x = torch.fft.fft2(x)\n",
    "    x = torch.fft.fftshift(x)\n",
    "    return x\n",
    "\n",
    "def generate_flash_seq(FA=10, fname='gre.seq', verbose=0):\n",
    "\n",
    "    # %% S2. DEFINE the sequence\n",
    "    seq = pp.Sequence()\n",
    "\n",
    "    # Define rf events\n",
    "    rf1, _, _ = pp.make_sinc_pulse(\n",
    "        flip_angle= FA * np.pi / 180, duration=1e-3,\n",
    "        slice_thickness=slice_thickness, apodization=0.5, time_bw_product=4,\n",
    "        system=system, return_gz=True\n",
    "    )\n",
    "    # rf1 = pp.make_block_pulse(flip_angle=90 * np.pi / 180, duration=1e-3, system=system)\n",
    "\n",
    "    # Define other gradients and ADC events\n",
    "    gx = pp.make_trapezoid(channel='x', flat_area=Nread / fov, flat_time=10e-3, system=system)\n",
    "    adc = pp.make_adc(num_samples=Nread, duration=10e-3, phase_offset=0 * np.pi/180, delay=gx.rise_time, system=system)\n",
    "    gx_pre = pp.make_trapezoid(channel='x', area=-gx.area / 2, duration=5e-3, system=system)\n",
    "    gx_spoil = pp.make_trapezoid(channel='x', area=1.5 * gx.area, duration=2e-3, system=system)\n",
    "\n",
    "    rf_phase = 0\n",
    "    rf_inc = 0\n",
    "    rf_spoiling_inc = 117\n",
    "\n",
    "    # ======\n",
    "    # CONSTRUCT SEQUENCE\n",
    "    # ======\n",
    "    ##linear reordering\n",
    "    phenc = np.arange(-Nphase // 2, Nphase // 2, 1) / fov\n",
    "    permvec =np.arange(0, Nphase, 1)\n",
    "    ## centric reordering\n",
    "    #permvec = sorted(np.arange(len(phenc)), key=lambda x: abs(len(phenc) // 2 - x))\n",
    "    ## random reordering\n",
    "    #perm =np.arange(0, Nphase, 1);  permvec = np.random.permutation(perm)\n",
    "\n",
    "    phenc_centr = phenc[permvec]\n",
    "\n",
    "    for ii in range(0, Nphase):  # e.g. -64:63\n",
    "\n",
    "        rf1.phase_offset = rf_phase / 180 * np.pi   # set current rf phase\n",
    "\n",
    "        adc.phase_offset = rf_phase / 180 * np.pi  # follow with ADC\n",
    "        rf_inc = divmod(rf_inc + rf_spoiling_inc, 360.0)[1]   # increase increment\n",
    "        # increment additional pahse\n",
    "        rf_phase = divmod(rf_phase + rf_inc, 360.0)[1]\n",
    "\n",
    "        seq.add_block(rf1)\n",
    "        seq.add_block(pp.make_delay(0.005))\n",
    "        gp = pp.make_trapezoid(channel='y', area=phenc_centr[ii], duration=5e-3, system=system)\n",
    "        seq.add_block(gx_pre, gp)\n",
    "        seq.add_block(adc, gx)\n",
    "        gp = pp.make_trapezoid(channel='y', area=-phenc_centr[ii], duration=5e-3, system=system)\n",
    "        seq.add_block(gx_spoil, gp)\n",
    "        if ii < Nphase - 1:\n",
    "            seq.add_block(pp.make_delay(0.01))\n",
    "\n",
    "\n",
    "    # %% S3. CHECK, PLOT and WRITE the sequence  as .seq\n",
    "    # Check whether the timing of the sequence is correct\n",
    "    ok, error_report = seq.check_timing()\n",
    "    if ok:\n",
    "        if verbose > 0:\n",
    "            print('Timing check passed successfully')\n",
    "    else:\n",
    "        print('Timing check failed. Error listing follows:')\n",
    "        [print(e) for e in error_report]\n",
    "\n",
    "    # PLOT sequence\n",
    "    if verbose > 0:\n",
    "        sp_adc, t_adc = mr0.util.pulseq_plot(seq, clear=False, figid=(11,12))\n",
    "\n",
    "    # Prepare the sequence output for the scanner\n",
    "    seq.set_definition('FOV', [fov, fov, slice_thickness])\n",
    "    seq.set_definition('Name', 'gre')\n",
    "    seq.write(fname)\n",
    "\n",
    "    reco_params = {'permvec': permvec}\n",
    "\n",
    "    return reco_params\n",
    "\n",
    "def simu_seq(fname, obj_p, reco_params, noiselevel=1e-4, verbose=0):\n",
    "\n",
    "    permvec = reco_params['permvec']\n",
    "\n",
    "    # %% S5:. SIMULATE  the external.seq file and add acquired signal to ADC plot\n",
    "    # Read in the sequence\n",
    "    seq0 = mr0.Sequence.import_file(fname)\n",
    "    if verbose > 0:\n",
    "        seq0.plot_kspace_trajectory()\n",
    "    # Simulate the sequence\n",
    "    graph = mr0.compute_graph(seq0, obj_p, 200, 1e-3)\n",
    "    signal = mr0.execute_graph(graph, seq0, obj_p, print_progress=False)\n",
    "\n",
    "    # PLOT sequence with signal in the ADC subplot\n",
    "    if verbose > 0:\n",
    "        plt.close(11);plt.close(12)\n",
    "        sp_adc, t_adc = mr0.util.pulseq_plot(seq, clear=False, signal=signal.numpy())\n",
    "\n",
    "    # additional noise as simulation is perfect\n",
    "    signal += noiselevel * np.random.randn(signal.shape[0], 2).view(np.complex128)\n",
    "\n",
    "\n",
    "    # %% S6: MR IMAGE RECON of signal ::: #####################################\n",
    "    if verbose > 0:\n",
    "        fig = plt.figure()  # fig.clf()\n",
    "        plt.subplot(411)\n",
    "        plt.title('ADC signal')\n",
    "        plt.plot(torch.real(signal), label='real')\n",
    "        plt.plot(torch.imag(signal), label='imag')\n",
    "        # this adds ticks at the correct position szread\n",
    "        major_ticks = np.arange(0, Nphase * Nread, Nread)\n",
    "        ax = plt.gca()\n",
    "        ax.set_xticks(major_ticks)\n",
    "        ax.grid()\n",
    "\n",
    "    kspace = torch.reshape((signal), (Nphase, Nread)).clone().t()\n",
    "\n",
    "    ipermvec = np.argsort(permvec)\n",
    "\n",
    "    kspace=kspace[:,ipermvec]\n",
    "\n",
    "    img = fft2d(kspace)\n",
    "\n",
    "    return img\n"
   ]
  },
  {
   "cell_type": "code",
   "execution_count": null,
   "metadata": {
    "id": "NwApBQJVSXaR"
   },
   "outputs": [],
   "source": [
    "#@title nevergrad optimization\n",
    "def calc_loss(FA): # loss function\n",
    "    global iter\n",
    "    reco_params = generate_flash_seq(FA=FA, fname='gre.seq')\n",
    "    img = simu_seq('gre.seq', obj_p, reco_params, noiselevel=0*1e-3)\n",
    "    mag = torch.sum(img.flatten().abs()**2)\n",
    "\n",
    "    clear_output(wait=True)\n",
    "    plt.figure(figsize=(13,5))\n",
    "    plt.subplot(1,2,1)\n",
    "    plt.imshow(img.abs()), plt.colorbar()\n",
    "    plt.title(f'iter {iter}: FA={FA[0]:.2f}, MAG={mag.item():.2f}')\n",
    "    plt.subplot(1,2,2)\n",
    "    plt.plot(values,'.-')\n",
    "    plt.xlabel('iteration'), plt.ylabel('loss')\n",
    "    plt.show()\n",
    "\n",
    "    iter += 1\n",
    "\n",
    "    return -mag.item()\n",
    "\n",
    "# def calc_loss(FA):\n",
    "#   E1 = np.exp(-20e-3/1)\n",
    "#   FArad = np.deg2rad(FA)\n",
    "#   S = np.sin(FArad) * (1-E1)/(1-np.cos(FArad)*E1)\n",
    "#   return -S\n",
    "\n",
    "def rescale_vars(x, a,b,c,d):\n",
    "    # original range (a,b)\n",
    "    # new range (c,d)\n",
    "    return ((x-a) / (b-a)) * (d-c) + c\n",
    "\n",
    "def obj_fun_rescaled(x1): # rescaled loss functions, shuch that optimizer sees only normrange\n",
    "    if type(x1) == list:\n",
    "        x1 = np.array(x1)\n",
    "    x1r = rescale_vars(x1, *normrange, *valrange)\n",
    "    return calc_loss(x1r)\n",
    "\n",
    "def print_candidate_and_value(optimizer, candidate, value): # callback, print and save intermediate steps\n",
    "    global cands, values, xx\n",
    "    # print('iter', xx, 'cand:', candidate, 'val:', value)\n",
    "    cands.append(candidate)\n",
    "    values.append(value)\n",
    "\n",
    "iter = 0 # global iteration counter\n",
    "\n",
    "# number of cost function evaluations (\"budget\")\n",
    "# Limited for building docs - should be increased\n",
    "niter = 10\n",
    "\n",
    "# this is the range in which the optimizer operates, see https://cma-es.github.io/cmaes_sourcecode_page.html#practical\n",
    "normrange = (-3,3)\n",
    "\n",
    "# boundaries in physical units\n",
    "valrange = (1e-1,180)\n",
    "\n",
    "# initial value (not sure if it has any influence, probably depending on optimizer)\n",
    "init = np.array([5]) # physical units\n",
    "\n",
    "# defining optimizable variables (\"instrumentation\")\n",
    "instrum = ng.p.Instrumentation(\n",
    "    ng.p.Array(init=rescale_vars(init,*valrange,*normrange)).set_bounds(*normrange),\n",
    ")\n",
    "\n",
    "cands = [] # to save all candidates during opt\n",
    "values = [] # to save loss values during opt\n",
    "\n",
    "optimizer = ng.optimizers.NGOpt(parametrization=instrum, budget=niter) # documentation says NGOpt is a good first choice, this is a \"meta-optimizer\" that chooses algorithm based on instrumentation\n",
    "# optimizer = ng.optimizers.registry[\"PSO\"](parametrization=instrum, budget=niter) # particle swarm\n",
    "# optimizer = ng.families.ParametrizedBO()(parametrization=instrum, budget=niter) # Bayesian optimization, this might be good for continuous in dim > 1, dim < ~100 (?)\n",
    "# optimizer = ng.families.NonObjectOptimizer(method='Powell')(parametrization=instrum, budget=niter) # more traditional grad free things\n",
    "# optimizer = ng.families.NonObjectOptimizer(method='NLOPT_GN_DIRECT')(parametrization=instrum, budget=niter) # more traditional grad free things\n",
    "# optimizer = ng.families.ParametrizedCMA()(parametrization=instrum, budget=niter) # only in dim > 1\n",
    "# optimizer = ng.families.RandomSearchMaker()(parametrization=instrum, budget=niter) # random search as baseline\n",
    "\n",
    "optimizer.register_callback(\"tell\", print_candidate_and_value) # set callback\n",
    "\n",
    "recommendation = optimizer.minimize(obj_fun_rescaled) # run opt\n",
    "FAopt = rescale_vars(recommendation[0][0].value, *normrange, *valrange)\n",
    "\n",
    "print(\"final result:\", FAopt)  # opt result\n",
    "print(\"used optimizer\", optimizer._optim)\n"
   ]
  },
  {
   "cell_type": "code",
   "execution_count": null,
   "metadata": {
    "colab": {
     "base_uri": "https://localhost:8080/",
     "height": 1000
    },
    "executionInfo": {
     "elapsed": 542,
     "status": "ok",
     "timestamp": 1691486955197,
     "user": {
      "displayName": "Moritz Zaiss",
      "userId": "13462394581901772323"
     },
     "user_tz": -120
    },
    "id": "u7jO7VTSSXaT",
    "outputId": "c7a019de-02bd-4496-d552-ab15d3489a24"
   },
   "outputs": [],
   "source": [
    "#@title some details on optimization history\n",
    "x_explored = [cands[ii][0].value[0] for ii in range(len(cands))] # extract optimization history\n",
    "FA_explored = np.array([rescale_vars(x, *normrange, *valrange) for x in x_explored]) # rescale back\n",
    "\n",
    "plt.figure(figsize=(7,12))\n",
    "plt.subplot(4,1,1)\n",
    "plt.plot(FA_explored,values,'.')\n",
    "plt.xlabel('FA [deg]'), plt.ylabel('loss')\n",
    "\n",
    "plt.subplot(4,1,2)\n",
    "plt.plot(FA_explored,'.-')\n",
    "plt.ylabel('FA [deg]')\n",
    "\n",
    "plt.subplot(4,1,3)\n",
    "plt.plot(values,'.-')\n",
    "plt.ylabel('loss')\n",
    "\n",
    "plt.subplot(4,1,4)\n",
    "plt.hist(FA_explored, bins=30)"
   ]
  },
  {
   "cell_type": "code",
   "execution_count": null,
   "metadata": {
    "colab": {
     "base_uri": "https://localhost:8080/",
     "height": 944
    },
    "executionInfo": {
     "elapsed": 98948,
     "status": "ok",
     "timestamp": 1691487054133,
     "user": {
      "displayName": "Moritz Zaiss",
      "userId": "13462394581901772323"
     },
     "user_tz": -120
    },
    "id": "ujZRr2ppA9A7",
    "outputId": "561e25e4-0a3f-4b93-a583-2f5fc28b113c"
   },
   "outputs": [],
   "source": [
    "#@title manual line search\n",
    "iter=0\n",
    "FAs = np.linspace(0,90, 10)  # Reduced precision for building docs\n",
    "losses = np.zeros(FAs.shape)\n",
    "for ii,FA in enumerate(FAs):\n",
    "  losses[ii] = calc_loss(np.array([FA]))\n",
    "\n",
    "plt.figure()\n",
    "plt.plot(FAs,losses,'.-')\n",
    "plt.xlabel('FA'), plt.ylabel('loss')"
   ]
  }
 ],
 "metadata": {
  "colab": {
   "provenance": [
    {
     "file_id": "1jmZrTCl53SWE05bs-_Z0ge0tfBkgS6uo",
     "timestamp": 1691486549168
    }
   ],
   "toc_visible": true
  },
  "kernelspec": {
   "display_name": "Python 3",
   "language": "python",
   "name": "python3"
  },
  "language_info": {
   "codemirror_mode": {
    "name": "ipython",
    "version": 3
   },
   "file_extension": ".py",
   "mimetype": "text/x-python",
   "name": "python",
   "nbconvert_exporter": "python",
   "pygments_lexer": "ipython3",
   "version": "3.11.4"
  }
 },
 "nbformat": 4,
 "nbformat_minor": 0
}
