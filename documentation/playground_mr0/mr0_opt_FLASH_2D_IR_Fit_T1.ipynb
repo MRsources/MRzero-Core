{
 "cells": [
  {
   "cell_type": "code",
   "execution_count": null,
   "metadata": {
    "cellView": "form",
    "executionInfo": {
     "elapsed": 57440,
     "status": "ok",
     "timestamp": 1697630388340,
     "user": {
      "displayName": "Simon Weinmüller",
      "userId": "07605119417428633325"
     },
     "user_tz": -120
    },
    "id": "k0-AcGuWV2zA",
    "tags": [
     "hide-cell"
    ]
   },
   "outputs": [],
   "source": [
    "!pip install pypulseq==1.3.1.post1 &> /dev/null\n",
    "!pip install MRzeroCore &> /dev/null\n",
    "!pip install pytorch-minimize &> /dev/null\n",
    "!pip install jupyterplot &> /dev/null\n",
    "!pip install ismrmrd\n",
    "\n",
    "!wget https://github.com/MRsources/MRzero-Core/raw/main/documentation/playground_mr0/numerical_brain_cropped.mat &> /dev/null"
   ]
  },
  {
   "cell_type": "code",
   "execution_count": null,
   "metadata": {},
   "outputs": [],
   "source": [
    "# @title On Google Colab, you need to restart the runtime after executing this cell\n",
    "!pip install numpy==1.24"
   ]
  },
  {
   "cell_type": "markdown",
   "metadata": {},
   "source": [
    "(IR_FLASH_fit)=\n",
    "# Optimized IR FLASH for T1 fit"
   ]
  },
  {
   "cell_type": "code",
   "execution_count": null,
   "metadata": {
    "colab": {
     "base_uri": "https://localhost:8080/",
     "height": 1000
    },
    "executionInfo": {
     "elapsed": 46556,
     "status": "ok",
     "timestamp": 1697630434890,
     "user": {
      "displayName": "Simon Weinmüller",
      "userId": "07605119417428633325"
     },
     "user_tz": -120
    },
    "id": "0H1Nj5KaWBhf",
    "outputId": "e8b240b9-2d4b-460a-f811-7d0fd559dc0b"
   },
   "outputs": [],
   "source": [
    "#@title generate 5 IR FLASH images with increasing TI\n",
    "# %% S0. SETUP env\n",
    "import MRzeroCore as mr0\n",
    "import pypulseq as pp\n",
    "import numpy as np\n",
    "import torch\n",
    "import matplotlib.pyplot as plt\n",
    "\n",
    "plt.rcParams['figure.figsize'] = [10, 5]\n",
    "plt.rcParams['figure.dpi'] = 100 # 200 e.g. is really fine, but slower\n",
    "\n",
    "experiment_id = 'FLASH_2D_Fit'\n",
    "\n",
    "# %% S1. SETUP sys\n",
    "\n",
    "# choose the scanner limits\n",
    "system = pp.Opts(max_grad=28,grad_unit='mT/m',max_slew=150,slew_unit='T/m/s',\n",
    "                 rf_ringdown_time=20e-6,rf_dead_time=100e-6,adc_dead_time=20e-6,grad_raster_time=50*10e-6)\n",
    "\n",
    "TI = [0.1,0.5,1.0,5.0]\n",
    "# Define FOV and resolution\n",
    "fov = 200e-3\n",
    "slice_thickness = 8e-3\n",
    "Nread = 24    # frequency encoding steps/samples\n",
    "Nphase = 24   # phase encoding steps/samples\n",
    "\n",
    "##linear reordering\n",
    "phenc = np.arange(-Nphase // 2, Nphase // 2, 1) / fov\n",
    "# permvec = np.arange(0, Nphase, 1)\n",
    "## centric reordering\n",
    "permvec = sorted(np.arange(len(phenc)), key=lambda x: abs(len(phenc) // 2 - x))\n",
    "## random reordering\n",
    "#perm =np.arange(0, Nphase, 1);  permvec = np.random.permutation(perm)\n",
    "\n",
    "# %% S2. DEFINE the sequence\n",
    "def create_inv_rec(TI):\n",
    "  seq = pp.Sequence()\n",
    "\n",
    "  # Define rf events\n",
    "  rf1, _, _ = pp.make_sinc_pulse(\n",
    "      flip_angle=10 * np.pi / 180, duration=1e-3,\n",
    "      slice_thickness=slice_thickness, apodization=0.5, time_bw_product=4,\n",
    "      system=system, return_gz=True\n",
    "  )\n",
    "\n",
    "  rf_inv = pp.make_block_pulse(flip_angle=180 * np.pi / 180, duration=1e-3, system=system)\n",
    "\n",
    "  # Define other gradients and ADC events\n",
    "  gx = pp.make_trapezoid(channel='x', flat_area=Nread / fov, flat_time=4e-3, system=system)\n",
    "  adc = pp.make_adc(num_samples=Nread, duration=4e-3, phase_offset=0 * np.pi/180, delay=gx.rise_time, system=system)\n",
    "  gx_pre = pp.make_trapezoid(channel='x', area=-gx.area / 2, duration=1e-3, system=system)\n",
    "  gx_spoil = pp.make_trapezoid(channel='x', area=1.5 * gx.area, duration=2e-3, system=system)\n",
    "  gy_spoil = pp.make_trapezoid(channel='y', area=1.5 * gx.area, duration=2e-3, system=system)\n",
    "\n",
    "  rf_phase = 0\n",
    "  rf_inc = 0\n",
    "  rf_spoiling_inc = 117\n",
    "\n",
    "  # ======\n",
    "  # CONSTRUCT SEQUENCE\n",
    "  # ======\n",
    "\n",
    "  phenc_centr = phenc[permvec]\n",
    "  for t in TI:\n",
    "    seq.add_block(rf_inv)\n",
    "    seq.add_block(pp.make_delay(t))\n",
    "    seq.add_block(gx_spoil, gy_spoil)\n",
    "    for ii in range(0, Nphase):  # e.g. -64:63\n",
    "\n",
    "        rf1.phase_offset = rf_phase / 180 * np.pi   # set current rf phase\n",
    "\n",
    "        adc.phase_offset = rf_phase / 180 * np.pi  # follow with ADC\n",
    "        rf_inc = divmod(rf_inc + rf_spoiling_inc, 360.0)[1]   # increase increment\n",
    "        # increment additional pahse\n",
    "        rf_phase = divmod(rf_phase + rf_inc, 360.0)[1]\n",
    "\n",
    "        seq.add_block(rf1)\n",
    "        seq.add_block(pp.make_delay(0.005))\n",
    "        gp = pp.make_trapezoid(channel='y', area=phenc_centr[ii], duration=1e-3, system=system)\n",
    "        seq.add_block(gx_pre, gp)\n",
    "        seq.add_block(adc, gx)\n",
    "        gp = pp.make_trapezoid(channel='y', area=-phenc_centr[ii], duration=1e-3, system=system)\n",
    "        seq.add_block(gx_spoil, gp)\n",
    "    seq.add_block(pp.make_delay(10))\n",
    "  return seq\n",
    "\n",
    "seq = create_inv_rec(TI)\n",
    "\n",
    "# %% S3. CHECK, PLOT and WRITE the sequence  as .seq\n",
    "# Check whether the timing of the sequence is correct\n",
    "ok, error_report = seq.check_timing()\n",
    "if ok:\n",
    "    print('Timing check passed successfully')\n",
    "else:\n",
    "    print('Timing check failed. Error listing follows:')\n",
    "    [print(e) for e in error_report]\n",
    "\n",
    "# PLOT sequence\n",
    "sp_adc, t_adc = mr0.util.pulseq_plot(seq, clear=False, figid=(11,12))\n",
    "\n",
    "# Prepare the sequence output for the scanner\n",
    "seq.set_definition('FOV', [fov, fov, slice_thickness])\n",
    "seq.set_definition('Name', 'gre')\n",
    "seq.write(experiment_id + '.seq')\n",
    "\n",
    "\n",
    "# %% S4: SETUP SPIN SYSTEM/object on which we can run the MR sequence external.seq from above\n",
    "sz = [Nread, Nread]\n",
    "# (i) load a phantom object from file\n",
    "phantom = mr0.VoxelGridPhantom.load_mat('numerical_brain_cropped.mat')\n",
    "phantom = phantom.interpolate(sz[0], sz[1], 1)\n",
    "# Manipulate loaded data\n",
    "phantom.T2dash[:] = 30e-3\n",
    "phantom.D *= 0\n",
    "phantom.B0 *= 1    # alter the B0 inhomogeneity\n",
    "# Store PD and B0 for comparison\n",
    "PD = phantom.PD\n",
    "B0 = phantom.B0\n",
    "T1 = phantom.T1\n",
    "phantom.plot()\n",
    "# Convert Phantom into simulation data\n",
    "obj_p = phantom.build()\n",
    "\n",
    "\n",
    "# %% S5:. SIMULATE  the external.seq file and add acquired signal to ADC plot\n",
    "# Read in the sequence\n",
    "seq0 = mr0.Sequence.import_file(experiment_id + '.seq')\n",
    "seq0.plot_kspace_trajectory()\n",
    "# Simulate the sequence\n",
    "graph = mr0.compute_graph(seq0, obj_p, 200, 1e-3)\n",
    "signal = mr0.execute_graph(graph, seq0, obj_p, print_progress=False)\n",
    "\n",
    "# PLOT sequence with signal in the ADC subplot\n",
    "plt.close(11);plt.close(12)\n",
    "sp_adc, t_adc = mr0.util.pulseq_plot(seq, clear=False, signal=signal.numpy())\n",
    "\n",
    "idx = len(TI)-1\n",
    "\n",
    "fig = plt.figure()  # fig.clf()\n",
    "plt.subplot(411)\n",
    "plt.title('ADC signal')\n",
    "kspace = torch.reshape((signal), (len(TI),Nphase, Nread)).clone().permute(0,2,1)\n",
    "plt.plot(torch.real(signal), label='real')\n",
    "plt.plot(torch.imag(signal), label='imag')\n",
    "\n",
    "ipermvec = np.argsort(permvec)\n",
    "\n",
    "kspace=kspace[:,:,ipermvec]\n",
    "# this adds ticks at the correct position szread\n",
    "major_ticks = np.arange(0, len(TI)*Nphase * Nread, Nread)\n",
    "ax = plt.gca()\n",
    "ax.set_xticks(major_ticks)\n",
    "ax.grid()\n",
    "\n",
    "# fftshift\n",
    "spectrum = torch.fft.fftshift(kspace,dim=(1,2))\n",
    "# FFT\n",
    "space = torch.fft.fft2(spectrum)\n",
    "# fftshift\n",
    "space = torch.fft.ifftshift(space,dim=(1,2))\n",
    "\n",
    "plt.subplot(345)\n",
    "plt.title('k-space')\n",
    "plt.imshow(np.abs(kspace[idx].numpy()))\n",
    "plt.subplot(349)\n",
    "plt.title('log. k-space')\n",
    "plt.imshow(np.log(np.abs(kspace[idx].numpy())))\n",
    "\n",
    "plt.subplot(346)\n",
    "plt.title('FFT-magnitude')\n",
    "plt.imshow(np.abs(space[idx].numpy()))\n",
    "plt.colorbar()\n",
    "plt.subplot(3, 4, 10)\n",
    "plt.title('FFT-phase')\n",
    "plt.imshow(np.angle(space[idx].numpy()), vmin=-np.pi, vmax=np.pi)\n",
    "plt.colorbar()\n",
    "\n",
    "# % compare with original phantom obj_p.PD\n",
    "plt.subplot(348)\n",
    "plt.title('phantom PD')\n",
    "plt.imshow(PD)\n",
    "plt.subplot(3, 4, 12)\n",
    "plt.title('phantom B0')\n",
    "plt.imshow(B0)"
   ]
  },
  {
   "cell_type": "markdown",
   "metadata": {
    "id": "5ctXXE2c_3ZE"
   },
   "source": [
    "#Fit\n",
    "\n",
    "We now copy the true T1 map as T1_target. Initialize the T1 of our object with arbitrary values. Make the T1 of our object optimizable. And define our signal generated above as target."
   ]
  },
  {
   "cell_type": "code",
   "execution_count": null,
   "metadata": {
    "colab": {
     "base_uri": "https://localhost:8080/",
     "height": 435
    },
    "executionInfo": {
     "elapsed": 11,
     "status": "ok",
     "timestamp": 1697630434891,
     "user": {
      "displayName": "Simon Weinmüller",
      "userId": "07605119417428633325"
     },
     "user_tz": -120
    },
    "id": "YNQNu3VKbQ_g",
    "outputId": "9bf6a4c6-b767-4bf3-b61a-226beda12cc1"
   },
   "outputs": [],
   "source": [
    "T1_target = phantom.T1 # Create Target T1 Map\n",
    "obj_opt = phantom.build()\n",
    "\n",
    "obj_opt.T1 = torch.ones_like(obj_opt.T1)    # reinitialize the current T1 map simply with 1\n",
    "\n",
    "obj_opt.T1.requires_grad = True\n",
    "\n",
    "meas_mask = torch.zeros_like(phantom.PD)\n",
    "meas_mask[phantom.PD > 0] = 1\n",
    "meas_mask = meas_mask[...,0]\n",
    "\n",
    "optimizable_params = [\n",
    "    {'params': obj_opt.T1, 'lr': 0.01}\n",
    "]\n",
    "\n",
    "target = torch.abs(space).clone()\n",
    "\n",
    "with torch.no_grad():\n",
    "    T1 = obj_opt.recover().T1\n",
    "\n",
    "    plt.subplot(1,2,1)\n",
    "    plt.imshow(T1,clim=(0,4))\n",
    "    plt.title('Initial T1')\n",
    "    plt.subplot(1,2,2)\n",
    "    plt.imshow(T1_target,clim=(0,4))\n",
    "    plt.title('T1 target')\n",
    "    plt.show()\n"
   ]
  },
  {
   "cell_type": "markdown",
   "metadata": {
    "id": "snT7hmene9Xw"
   },
   "source": [
    "now we define our iteration step function, that generates the mr signal from the seq and the current T1, and compares this to the original target signal from above"
   ]
  },
  {
   "cell_type": "code",
   "execution_count": null,
   "metadata": {
    "executionInfo": {
     "elapsed": 4772,
     "status": "ok",
     "timestamp": 1697630439655,
     "user": {
      "displayName": "Simon Weinmüller",
      "userId": "07605119417428633325"
     },
     "user_tz": -120
    },
    "id": "yKkuEHRTqQAV"
   },
   "outputs": [],
   "source": [
    "from jupyterplot import ProgressPlot\n",
    "%matplotlib inline\n",
    "\n",
    "loss_history = []\n",
    "def calc_loss(seq0,iteration):\n",
    "\n",
    "  signal = mr0.execute_graph(graph, seq0, obj_opt)\n",
    "  kspace = torch.reshape((signal), (len(TI),Nphase, Nread)).clone().permute(0,2,1)\n",
    "  kspace = kspace[:,:,ipermvec]\n",
    "  spectrum = torch.fft.fftshift(kspace,dim=(1,2))\n",
    "  space = torch.fft.fft2(spectrum)\n",
    "  space = torch.fft.ifftshift(space,dim=(1,2))\n",
    "  space_abs = torch.abs(space)\n",
    "  reco_diff = (target*meas_mask[None] - space_abs*meas_mask[None])\n",
    "  loss = torch.mean(reco_diff**2)\n",
    "  loss_history.append(loss.detach().numpy())\n",
    "\n",
    "  progress_plot.update(float(loss_history[-1])/float(loss_history[0]))\n",
    "\n",
    "  with torch.no_grad():\n",
    "    if iteration % 5 == 0:\n",
    "      T1 = obj_opt.recover().T1\n",
    "      update(T1,iteration)\n",
    "  return loss\n",
    "\n"
   ]
  },
  {
   "cell_type": "markdown",
   "metadata": {
    "id": "bdP_m9eXfANq"
   },
   "source": [
    "Now we optimize through the whole 5 TI IR FLASH"
   ]
  },
  {
   "cell_type": "code",
   "execution_count": null,
   "metadata": {
    "colab": {
     "base_uri": "https://localhost:8080/",
     "height": 1000
    },
    "executionInfo": {
     "elapsed": 383987,
     "status": "ok",
     "timestamp": 1697630823639,
     "user": {
      "displayName": "Simon Weinmüller",
      "userId": "07605119417428633325"
     },
     "user_tz": -120
    },
    "id": "rXaEGftPqKXA",
    "outputId": "851e3cd8-2207-4c69-c0d1-7cbd58c8f6ab"
   },
   "outputs": [],
   "source": [
    "# Create interactive plotting for loss curve and T1 maps\n",
    "%matplotlib inline\n",
    "fig = plt.figure()\n",
    "fig.suptitle(\"Iteration: 0\")\n",
    "axes1 = fig.add_subplot(121)\n",
    "axes2 = fig.add_subplot(122)\n",
    "\n",
    "hfig = display(fig, display_id=True)\n",
    "\n",
    "def draw():\n",
    "  im1 = axes1.imshow(T1_target,clim=(0,4))\n",
    "  c1 = plt.colorbar(im1)\n",
    "  im1.set_clim(0,4)\n",
    "  axes1.set_title('T1 target')\n",
    "  im2 = axes2.imshow(T1,clim=(0,4))\n",
    "  c2 = plt.colorbar(im2)\n",
    "  im2.set_clim(0,4)\n",
    "  axes2.set_title('Fit_pred')\n",
    "  fig.canvas.draw()\n",
    "  hfig.update(fig)\n",
    "\n",
    "def update(T1,iteration):\n",
    "  fig.suptitle(\"Iteration: \" + str(iteration))\n",
    "  axes1.cla()\n",
    "  im1 = axes1.imshow(T1_target,clim=(0,4))\n",
    "  axes1.set_title('T1 target')\n",
    "  axes2.cla()\n",
    "  im2 = axes2.imshow(T1,clim=(0,4))\n",
    "  axes2.set_title('Fit_pred')\n",
    "  fig.canvas.draw()\n",
    "  hfig.update(fig)\n",
    "\n",
    "draw()\n",
    "\n",
    "loss_history = []\n",
    "\n",
    "optimizer = torch.optim.Adam(optimizable_params)\n",
    "scheduler = torch.optim.lr_scheduler.OneCycleLR(optimizer, max_lr=[0.5], total_steps=400)\n",
    "iteration = 0\n",
    "\n",
    "progress_plot = ProgressPlot(x_label = \"Iteration\", line_names = [\"Loss\"], width = 800, height = 500)\n",
    "\n",
    "# Need a low iter count for building the documentation\n",
    "for restart in range(10):\n",
    "  torch.cuda.empty_cache()\n",
    "  graph = mr0.compute_graph(seq0, obj_opt, 200, 1e-3)\n",
    "  optimizer.zero_grad()\n",
    "  loss = calc_loss(seq0, iteration)\n",
    "  loss.backward()\n",
    "  optimizer.step()\n",
    "  scheduler.step()\n",
    "  iteration += 1\n",
    "progress_plot.finalize()\n",
    "plt.close(fig)"
   ]
  }
 ],
 "metadata": {
  "colab": {
   "provenance": [
    {
     "file_id": "189CsYwzbkqXDoEWz6CQ8VemuKuQPUCxU",
     "timestamp": 1690500526476
    }
   ]
  },
  "kernelspec": {
   "display_name": "Python 3",
   "name": "python3"
  },
  "language_info": {
   "codemirror_mode": {
    "name": "ipython",
    "version": 3
   },
   "file_extension": ".py",
   "mimetype": "text/x-python",
   "name": "python",
   "nbconvert_exporter": "python",
   "pygments_lexer": "ipython3",
   "version": "3.11.3"
  }
 },
 "nbformat": 4,
 "nbformat_minor": 0
}
