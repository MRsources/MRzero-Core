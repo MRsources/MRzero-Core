{
  "cells": [
    {
      "cell_type": "code",
      "execution_count": null,
      "metadata": {
        "colab": {
          "base_uri": "https://localhost:8080/"
        },
        "id": "GVi5z9I1_GhI",
        "outputId": "753517a8-06a4-40b1-b878-b746bc3d2b7e",
        "tags": [
          "hide-cell"
        ]
      },
      "outputs": [],
      "source": [
        "#@title 0. Install mr0\n",
        "!wget https://github.com/MRsources/MRzero-Core/raw/main/documentation/playground_mr0/ptx_phantom.p &> /dev/null\n",
        "!pip install git+https://gitlab.cs.fau.de/mrzero/pypulseq_rfshim.git@PyPulseq_rfshim_145_MR0 &> /dev/null\n",
        "!pip install ismrmrd\n",
        "!pip install MRzeroCore &> /dev/null"
      ]
    },
    {
      "cell_type": "code",
      "execution_count": null,
      "metadata": {},
      "outputs": [],
      "source": [
        "# @title On Google Colab, you need to restart the runtime after executing this cell\n",
        "!pip install numpy==1.24"
      ]
    },
    {
      "cell_type": "markdown",
      "metadata": {},
      "source": [
        "(pulseq_ptx)=\n",
        "# Pulseq with RF shimming"
      ]
    },
    {
      "cell_type": "code",
      "execution_count": null,
      "metadata": {
        "colab": {
          "base_uri": "https://localhost:8080/"
        },
        "id": "O-_sr6lZjR_n",
        "outputId": "b0e2550d-73d1-4863-df1f-24d4a20a7bfd"
      },
      "outputs": [
        {
          "ename": "",
          "evalue": "",
          "output_type": "error",
          "traceback": [
            "\u001b[1;31mRunning cells with 'Python 3.10.12' requires the ipykernel package.\n",
            "\u001b[1;31m<a href='command:jupyter.createPythonEnvAndSelectController'>Create a Python Environment</a> with the required packages.\n",
            "\u001b[1;31mOr install 'ipykernel' using the command: '/bin/python -m pip install ipykernel -U --user --force-reinstall'"
          ]
        }
      ],
      "source": [
        "import MRzeroCore as mr0\n",
        "import pypulseq as pp\n",
        "import matplotlib.pyplot as plt\n",
        "import numpy as np\n",
        "import torch\n",
        "import pickle"
      ]
    },
    {
      "cell_type": "markdown",
      "metadata": {
        "id": "oXaYWasrgAIJ"
      },
      "source": [
        "Load Phantom extendet with B1 Maps for pTx"
      ]
    },
    {
      "cell_type": "code",
      "execution_count": null,
      "metadata": {
        "colab": {
          "base_uri": "https://localhost:8080/",
          "height": 412
        },
        "id": "cNCcTpYZRlqE",
        "outputId": "cde86acc-2210-4b76-fb5f-35658454accf"
      },
      "outputs": [],
      "source": [
        "phantom = pickle.load(open(\"ptx_phantom.p\", \"rb\"))\n",
        "\n",
        "plt.figure(figsize=(8, 2), dpi=300)\n",
        "for i in range(8):\n",
        "    plt.subplot(2, 8, i+1)\n",
        "    plt.imshow(phantom.B1[i,:,:,0].abs().T, vmin=0, origin=\"lower\")\n",
        "    plt.axis(\"off\")\n",
        "    plt.subplot(2, 8, i+9)\n",
        "    plt.imshow(phantom.B1[i,:,:,0].angle().T, cmap=\"twilight\", vmin=-np.pi, vmax=np.pi, origin=\"lower\")\n",
        "    plt.axis(\"off\")\n",
        "plt.show()"
      ]
    },
    {
      "cell_type": "markdown",
      "metadata": {
        "id": "fftSBXHZW0E3"
      },
      "source": [
        "Sequence definition fixed part\n"
      ]
    },
    {
      "cell_type": "code",
      "execution_count": null,
      "metadata": {
        "colab": {
          "base_uri": "https://localhost:8080/"
        },
        "id": "PNo1fbpYf20w",
        "outputId": "c443f3a0-ff30-4421-988d-4ecebf844e8d"
      },
      "outputs": [],
      "source": [
        "# %% S1. SETUP sys\n",
        "\n",
        "## choose the scanner limits\n",
        "system = pp.Opts(max_grad=28, grad_unit='mT/m', max_slew=150, slew_unit='T/m/s', rf_ringdown_time=20e-6,\n",
        "              rf_dead_time=100e-6, adc_dead_time=20e-6, grad_raster_time=50 * 10e-6)\n",
        "\n",
        "# %% S2. DEFINE the sequence\n",
        "seq = pp.Sequence()\n",
        "\n",
        "# Define FOV and resolution\n",
        "# Values form MiniFLASH\n",
        "fov = 192e-3\n",
        "Nread = 32\n",
        "Nphase = 32\n",
        "slice_thickness = 5e-3  # slice propably in mm\n",
        "\n",
        "\n",
        "# Define other gradients and ADC events\n",
        "gx = pp.make_trapezoid(channel='x', flat_area=Nread/fov, flat_time=2e-3, system=system)\n",
        "adc = pp.make_adc(num_samples=Nread, duration=gx.flat_time, delay=gx.rise_time, system=system)\n",
        "gx_pre = pp.make_trapezoid(channel='x', area=-gx.area / 2, duration=5e-3, system=system)\n",
        "gx_spoil = pp.make_trapezoid(channel='x', area=1.5*gx.area, duration=5e-3, system=system)\n",
        "\n",
        "# ======\n",
        "# CONSTRUCT SEQUENCE\n",
        "# ======\n",
        "\n",
        "experiment_id = 'FLASH_pTx'\n",
        "rf_phase = 0\n",
        "rf_inc = 0\n",
        "rf_spoiling_inc=117\n",
        "\n",
        "mode = 'cp' # @param [\"cp\", \"ep\"]\n",
        "if mode == 'cp':\n",
        "     shim_array = np.array([[0.35, 0    * np.pi / 180],\n",
        "                   [0.35, -45  * np.pi / 180],\n",
        "                   [0.35, -90  * np.pi / 180],\n",
        "                   [0.35, -135 * np.pi / 180],\n",
        "                   [0.35, -180 * np.pi / 180],\n",
        "                   [0.35, 135  * np.pi / 180],\n",
        "                   [0.35, 90   * np.pi / 180],\n",
        "                   [0.35, 45   * np.pi / 180]], dtype=float)\n",
        "else:\n",
        "    shim_array = np.array([[0.35, 0    * np.pi / 180],\n",
        "                   [0.35, -90  * np.pi / 180],\n",
        "                   [0.35, 180  * np.pi / 180],\n",
        "                   [0.35, 90   * np.pi / 180],\n",
        "                   [0.35, 0    * np.pi / 180],\n",
        "                   [0.35, -90  * np.pi / 180],\n",
        "                   [0.35, -180 * np.pi / 180],\n",
        "                   [0.35, 90   * np.pi / 180]], dtype=float)\n",
        "\n",
        "rf, gz, gzr = pp.make_sinc_pulse(flip_angle=10 * np.pi / 180,\n",
        "                                  system=system,\n",
        "                                  duration=1e-3,\n",
        "                                  slice_thickness=5e-3,\n",
        "                                  apodization=0.5,\n",
        "                                  time_bw_product=4,\n",
        "                                  shim_array=shim_array,\n",
        "                                  return_gz=True)\n",
        "\n",
        "\n",
        "\n",
        "for ii in range(-Nphase // 2, Nphase // 2):\n",
        "\n",
        "    rf.phase_offset = rf_phase / 180 * np.pi  # set current rf phase\n",
        "    adc.phase_offset = rf_phase / 180 * np.pi  # follow with ADC\n",
        "\n",
        "    rf_inc   = divmod(rf_inc + rf_spoiling_inc, 360.0)[1]  # increase increment\n",
        "    rf_phase = divmod(rf_phase + rf_inc, 360.0)[1]  # increment additional phase\n",
        "\n",
        "    #CP Line\n",
        "    seq.add_block(rf, gz)\n",
        "    seq.add_block(gzr)\n",
        "    gy_pre = pp.make_trapezoid(channel='y', area=ii/fov, duration=pp.calc_duration(gx_pre), system=system)\n",
        "    seq.add_block(gx_pre, gy_pre)\n",
        "    seq.add_block(adc, gx)\n",
        "    gy_spoil = pp.make_trapezoid(channel='y', area=-ii/fov, duration=pp.calc_duration(gx_pre), system=system)\n",
        "    seq.add_block(gx_spoil, gy_spoil)\n",
        "    if ii < Nphase - 1:\n",
        "        seq.add_block(pp.make_delay(0.001))\n",
        "\n",
        "# %% S3. CHECK, PLOT and WRITE the sequence  as .seq\n",
        "ok, error_report = seq.check_timing()  # Check whether the timing of the sequence is correct\n",
        "if ok:\n",
        "    print('Timing check passed successfully')\n",
        "else:\n",
        "    print('Timing check failed. Error listing follows:')\n",
        "    [print(e) for e in error_report]\n",
        "\n",
        "\n",
        "# Prepare the sequence output for the scanner\n",
        "seq.set_definition('FOV', [fov, fov, slice_thickness])\n",
        "seq.set_definition('Name', experiment_id)\n",
        "seq.write('external.seq')\n"
      ]
    },
    {
      "cell_type": "code",
      "execution_count": null,
      "metadata": {
        "colab": {
          "base_uri": "https://localhost:8080/",
          "height": 579
        },
        "id": "HTYTghFLjeCY",
        "outputId": "6538c2e2-0c5f-4098-e83e-9b5e899a6802"
      },
      "outputs": [],
      "source": [
        "#seq_file = \"flash pTx EP.seq\" #@param [\"flash pTx EP.seq\", \"flash pTx CP.seq\", \"flash pTx QM.seq\"] {allow-input: true}\n",
        "\n",
        "seq_file = 'external.seq'\n",
        "\n",
        "data = phantom.build()\n",
        "\n",
        "seq = mr0.Sequence.from_seq_file(seq_file)\n",
        "seq.plot_kspace_trajectory()\n",
        "\n",
        "# Simulate the sequence\n",
        "graph = mr0.compute_graph(seq, data, 200, 1e-3)\n",
        "signal = mr0.execute_graph(graph, seq, data)\n",
        "reco = mr0.reco_adjoint(signal, seq.get_kspace(), resolution=(64, 64, 1), FOV=(1, 1, 1))\n",
        "\n",
        "plt.figure(figsize=(7, 3), dpi=200)\n",
        "plt.subplot(121)\n",
        "plt.title(\"Magnitude\")\n",
        "plt.imshow(reco[:, :, 0].T.abs(), origin=\"lower\", vmin=0, cmap=\"gray\")\n",
        "plt.colorbar()\n",
        "plt.subplot(122)\n",
        "plt.title(\"Phase\")\n",
        "plt.imshow(reco[:, :, 0].T.angle(), origin=\"lower\", vmin=-np.pi, vmax=np.pi, cmap=\"twilight\")\n",
        "plt.colorbar()\n",
        "plt.show()"
      ]
    },
    {
      "cell_type": "markdown",
      "metadata": {
        "id": "uuhP0t3F4sa1"
      },
      "source": [
        "all in one"
      ]
    },
    {
      "cell_type": "code",
      "execution_count": null,
      "metadata": {
        "colab": {
          "base_uri": "https://localhost:8080/",
          "height": 596
        },
        "id": "bo1f1gdu2GSO",
        "outputId": "5c9a9d9e-9a9a-4885-ee02-c190db120006"
      },
      "outputs": [],
      "source": [
        "# %% S1. SETUP sys\n",
        "\n",
        "## choose the scanner limits\n",
        "system = pp.Opts(max_grad=28, grad_unit='mT/m', max_slew=150, slew_unit='T/m/s', rf_ringdown_time=20e-6,\n",
        "              rf_dead_time=100e-6, adc_dead_time=20e-6, grad_raster_time=50 * 10e-6)\n",
        "\n",
        "# %% S2. DEFINE the sequence\n",
        "seq = pp.Sequence()\n",
        "\n",
        "# Define FOV and resolution\n",
        "# Values form MiniFLASH\n",
        "fov = 200e-3\n",
        "Nread = 32\n",
        "Nphase = 32\n",
        "slice_thickness = 5e-3  # slice propably in mm\n",
        "\n",
        "\n",
        "# Define other gradients and ADC events\n",
        "gx = pp.make_trapezoid(channel='x', flat_area=Nread/fov, flat_time=2e-3, system=system)\n",
        "adc = pp.make_adc(num_samples=Nread, duration=gx.flat_time, delay=gx.rise_time, system=system)\n",
        "gx_pre = pp.make_trapezoid(channel='x', area=-gx.area / 2, duration=5e-3, system=system)\n",
        "gx_spoil = pp.make_trapezoid(channel='x', area=1.5*gx.area, duration=5e-3, system=system)\n",
        "\n",
        "# ======\n",
        "# CONSTRUCT SEQUENCE\n",
        "# ======\n",
        "\n",
        "experiment_id = 'FLASH_pTx'\n",
        "rf_phase = 0\n",
        "rf_inc = 0\n",
        "rf_spoiling_inc=117\n",
        "\n",
        "ch0_mag  = 0.11 # @param {type:\"slider\", min:0.05, max:1, step:0.01}\n",
        "ch1_mag  = 0.1 # @param {type:\"slider\", min:0.05, max:1, step:0.01}\n",
        "ch2_mag  = 0.32 # @param {type:\"slider\", min:0.05, max:1, step:0.01}\n",
        "ch3_mag  = 0.31 # @param {type:\"slider\", min:0.05, max:1, step:0.01}\n",
        "ch4_mag  = 0.11 # @param {type:\"slider\", min:0.05, max:1, step:0.01}\n",
        "ch5_mag  = 0.12 # @param {type:\"slider\", min:0.05, max:1, step:0.01}\n",
        "ch6_mag  = 0.36 # @param {type:\"slider\", min:0.05, max:1, step:0.01}\n",
        "ch7_mag  = 0.11 # @param {type:\"slider\", min:0.05, max:1, step:0.01}\n",
        "\n",
        "ch0_ph   = -2    # @param {type:\"slider\", min:-360, max:360, step:1}\n",
        "ch1_ph   = 3  # @param {type:\"slider\", min:-360, max:360, step:1}\n",
        "ch2_ph   = 3  # @param {type:\"slider\", min:-360, max:360, step:1}\n",
        "ch3_ph   = 0 # @param {type:\"slider\", min:-360, max:360, step:1}\n",
        "ch4_ph   = 3 # @param {type:\"slider\", min:-360, max:360, step:1}\n",
        "ch5_ph   = 7  # @param {type:\"slider\", min:-360, max:360, step:1}\n",
        "ch6_ph   = 8   # @param {type:\"slider\", min:-360, max:360, step:1}\n",
        "ch7_ph   = 10   # @param {type:\"slider\", min:-360, max:360, step:1}\n",
        "\n",
        "\n",
        "shim_array = np.array([[ch0_mag, ch0_ph * np.pi / 180],\n",
        "                       [ch1_mag, ch1_ph * np.pi / 180],\n",
        "                       [ch2_mag, ch2_ph * np.pi / 180],\n",
        "                       [ch3_mag, ch3_ph * np.pi / 180],\n",
        "                       [ch4_mag, ch4_ph * np.pi / 180],\n",
        "                       [ch5_mag, ch5_ph * np.pi / 180],\n",
        "                       [ch6_mag, ch6_ph * np.pi / 180],\n",
        "                       [ch7_mag, ch7_ph * np.pi / 180]], dtype=float)\n",
        "\n",
        "rf, gz, gzr = pp.make_sinc_pulse(flip_angle=10 * np.pi / 180,\n",
        "                                  system=system,\n",
        "                                  duration=1e-3,\n",
        "                                  slice_thickness=5e-3,\n",
        "                                  apodization=0.5,\n",
        "                                  time_bw_product=4,\n",
        "                                  shim_array=shim_array,\n",
        "                                  return_gz=True)\n",
        "\n",
        "\n",
        "\n",
        "for ii in range(-Nphase // 2, Nphase // 2):\n",
        "\n",
        "    rf.phase_offset = rf_phase / 180 * np.pi  # set current rf phase\n",
        "    adc.phase_offset = rf_phase / 180 * np.pi  # follow with ADC\n",
        "\n",
        "    rf_inc   = divmod(rf_inc + rf_spoiling_inc, 360.0)[1]  # increase increment\n",
        "    rf_phase = divmod(rf_phase + rf_inc, 360.0)[1]  # increment additional pahse\n",
        "\n",
        "    #CP Line\n",
        "    seq.add_block(rf, gz)\n",
        "    seq.add_block(gzr)\n",
        "    gy_pre = pp.make_trapezoid(channel='y', area=ii/fov, duration=pp.calc_duration(gx_pre), system=system)\n",
        "    seq.add_block(gx_pre, gy_pre)\n",
        "    seq.add_block(adc, gx)\n",
        "    gy_spoil = pp.make_trapezoid(channel='y', area=-ii/fov, duration=pp.calc_duration(gx_pre), system=system)\n",
        "    seq.add_block(gx_spoil, gy_spoil)\n",
        "    if ii < Nphase - 1:\n",
        "        seq.add_block(pp.make_delay(0.001))\n",
        "\n",
        "# %% S3. CHECK, PLOT and WRITE the sequence  as .seq\n",
        "ok, error_report = seq.check_timing()  # Check whether the timing of the sequence is correct\n",
        "if ok:\n",
        "    print('Timing check passed successfully')\n",
        "else:\n",
        "    print('Timing check failed. Error listing follows:')\n",
        "    [print(e) for e in error_report]\n",
        "\n",
        "\n",
        "# Prepare the sequence output for the scanner\n",
        "seq.set_definition('FOV', [fov, fov, slice_thickness])\n",
        "seq.set_definition('Name', experiment_id)\n",
        "seq.write('external.seq')\n",
        "\n",
        "seq_file = 'external.seq'\n",
        "\n",
        "data = phantom.build()\n",
        "\n",
        "seq = mr0.Sequence.from_seq_file(seq_file)\n",
        "#seq.plot_kspace_trajectory()\n",
        "\n",
        "# Create a non-pTx version of the sequence\n",
        "prepass_seq = seq.clone()\n",
        "for rep in prepass_seq:\n",
        "    rep.pulse.angle = rep.pulse.angle.mean() / np.sqrt(1 / rep.pulse.angle.numel())\n",
        "    rep.pulse.phase = rep.pulse.phase.mean()\n",
        "\n",
        "# Simulate the sequence\n",
        "graph = mr0.compute_graph(prepass_seq, data, 200, 1e-3)\n",
        "signal = mr0.execute_graph(graph, seq, data)\n",
        "reco = mr0.reco_adjoint(signal, seq.get_kspace(), resolution=(64, 64, 1), FOV=(1, 1, 1))\n",
        "\n",
        "plt.figure(figsize=(7, 3), dpi=200)\n",
        "plt.subplot(121)\n",
        "plt.title(\"Magnitude\")\n",
        "plt.imshow(reco[:, :, 0].T.abs(), origin=\"lower\", vmin=0, cmap=\"gray\")\n",
        "plt.colorbar()\n",
        "plt.subplot(122)\n",
        "plt.title(\"Phase\")\n",
        "plt.imshow(reco[:, :, 0].T.angle(), origin=\"lower\", vmin=-np.pi, vmax=np.pi, cmap=\"twilight\")\n",
        "plt.colorbar()\n",
        "plt.show()\n"
      ]
    },
    {
      "cell_type": "code",
      "execution_count": null,
      "metadata": {
        "colab": {
          "base_uri": "https://localhost:8080/",
          "height": 359
        },
        "id": "LTjLXaoJCf_3",
        "outputId": "f77000ca-2fc3-415f-f158-1cda51a36e69"
      },
      "outputs": [],
      "source": [
        "B1 = torch.zeros((64, 64), dtype=torch.cfloat)\n",
        "B1 += shim_array[0, 0] * np.exp(1j * shim_array[0, 1]) * phantom.B1[0, :, :, 0]\n",
        "B1 += shim_array[1, 0] * np.exp(1j * shim_array[1, 1]) * phantom.B1[1, :, :, 0]\n",
        "B1 += shim_array[2, 0] * np.exp(1j * shim_array[2, 1]) * phantom.B1[2, :, :, 0]\n",
        "B1 += shim_array[3, 0] * np.exp(1j * shim_array[3, 1]) * phantom.B1[3, :, :, 0]\n",
        "B1 += shim_array[4, 0] * np.exp(1j * shim_array[4, 1]) * phantom.B1[4, :, :, 0]\n",
        "B1 += shim_array[5, 0] * np.exp(1j * shim_array[5, 1]) * phantom.B1[5, :, :, 0]\n",
        "B1 += shim_array[6, 0] * np.exp(1j * shim_array[6, 1]) * phantom.B1[6, :, :, 0]\n",
        "B1 += shim_array[7, 0] * np.exp(1j * shim_array[7, 1]) * phantom.B1[7, :, :, 0]\n",
        "\n",
        "plt.figure(figsize=(8, 4))\n",
        "plt.subplot(121)\n",
        "plt.title(\"abs(shim)\")\n",
        "plt.imshow(B1.abs().T, origin=\"lower\", vmin=0)\n",
        "plt.colorbar()\n",
        "plt.axis(\"off\")\n",
        "plt.subplot(122)\n",
        "plt.title(\"angle(shim)\")\n",
        "plt.imshow(B1.angle().T, origin=\"lower\", vmin=-np.pi, vmax=np.pi, cmap=\"twilight\")\n",
        "cbar = plt.colorbar(ticks=[-np.pi, -np.pi/2, 0, np.pi/2, np.pi])\n",
        "cbar.ax.set_yticklabels([\"$-\\\\pi$\", \"$-\\\\pi/2$\", \"$0$\",  \"$\\\\pi/2$\", \"$\\\\pi$\"])\n",
        "plt.axis(\"off\")\n",
        "plt.show()"
      ]
    }
  ],
  "metadata": {
    "colab": {
      "provenance": []
    },
    "kernelspec": {
      "display_name": "Python 3",
      "name": "python3"
    },
    "language_info": {
      "codemirror_mode": {
        "name": "ipython",
        "version": 3
      },
      "file_extension": ".py",
      "mimetype": "text/x-python",
      "name": "python",
      "nbconvert_exporter": "python",
      "pygments_lexer": "ipython3",
      "version": "3.10.12"
    }
  },
  "nbformat": 4,
  "nbformat_minor": 0
}
