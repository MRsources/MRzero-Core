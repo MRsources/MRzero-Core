{
 "cells": [
  {
   "cell_type": "code",
   "execution_count": null,
   "metadata": {
    "tags": [
     "hide-cell"
    ]
   },
   "outputs": [],
   "source": [
    "!pip install pypulseq==1.3.1.post1 &> /dev/null\n",
    "!pip install ismrmrd\n",
    "!pip install MRzeroCore &> /dev/null\n",
    "\n",
    "!wget https://github.com/MRsources/MRzero-Core/raw/main/documentation/playground_mr0/subject05.npz &> /dev/null"
   ]
  },
  {
   "cell_type": "code",
   "execution_count": null,
   "metadata": {},
   "outputs": [],
   "source": [
    "# @title On Google Colab, you need to restart the runtime after executing this cell\n",
    "!pip install numpy==1.24"
   ]
  },
  {
   "cell_type": "code",
   "execution_count": null,
   "metadata": {},
   "outputs": [],
   "source": [
    "import numpy as np\n",
    "# newer numpy versions don't contain this, but pypulseq still relies on it\n",
    "np.int = int\n",
    "np.float = float\n",
    "np.complex = complex\n",
    "\n",
    "import pypulseq as pp\n",
    "import MRzeroCore as mr0\n",
    "import torch\n",
    "import matplotlib.pyplot as plt\n",
    "\n",
    "experiment_id = \"flash\""
   ]
  },
  {
   "attachments": {},
   "cell_type": "markdown",
   "metadata": {},
   "source": [
    "(pulseq_flash)=\n",
    "# pulseq FLASH\n",
    "\n",
    "MRzero Core has functionality to parse and simulate pulseq .seq files.\n",
    "We build the same pulseq sequence as before, but this time with pulseq."
   ]
  },
  {
   "cell_type": "code",
   "execution_count": null,
   "metadata": {},
   "outputs": [],
   "source": [
    "sys = pp.Opts(\n",
    "    max_grad=28, grad_unit='mT/m', max_slew=150, slew_unit='T/m/s',\n",
    "    rf_ringdown_time=20e-6, rf_dead_time=100e-6, adc_dead_time=20e-6,\n",
    "    grad_raster_time=50e-6\n",
    ")"
   ]
  },
  {
   "cell_type": "code",
   "execution_count": null,
   "metadata": {},
   "outputs": [],
   "source": [
    "n_read = 64\n",
    "n_phase = 64\n",
    "fov = 192e-3\n",
    "slice_thickness = 8e-3\n",
    "\n",
    "rf = pp.make_sinc_pulse(\n",
    "    flip_angle=5 * np.pi/180, duration=1e-3,\n",
    "    slice_thickness=slice_thickness, apodization=0.5, time_bw_product=4,\n",
    "    system=sys, return_gz=False\n",
    ")\n",
    "# Readout gradient\n",
    "gx = pp.make_trapezoid('x', flat_area=n_read / fov, flat_time=n_read*50e-6, system=sys)\n",
    "adc = pp.make_adc(\n",
    "    num_samples=n_read, dwell=50e-6, delay=gx.rise_time,\n",
    "    system=sys\n",
    ")\n",
    "# Rewinder before gx and spoiler afterwards\n",
    "gx_pre = pp.make_trapezoid('x', area=-0.5*gx.area, duration=5e-3, system=sys)\n",
    "gx_spoil = pp.make_trapezoid('x', area=1.5*gx.area, duration=2e-3, system=sys)\n",
    "\n",
    "# Construct the sequence\n",
    "seq = pp.Sequence()\n",
    "for i in range(-n_phase//2, n_phase//2):\n",
    "    # RF phase spoiling\n",
    "    rf.phase_offset = (0.5 * (i**2+i+2) * 117) % 360 * np.pi / 180\n",
    "    adc.phase_offset = rf.phase_offset\n",
    "    seq.add_block(rf)\n",
    "    # Phase encoding\n",
    "    gy = pp.make_trapezoid('y', area=i / fov, duration=5e-3, system=sys)\n",
    "    seq.add_block(gx_pre, gy)\n",
    "    seq.add_block(adc, gx)\n",
    "    # Rewind phase and spoil\n",
    "    gy = pp.make_trapezoid('y', area=-i / fov, duration=5e-3, system=sys)\n",
    "    seq.add_block(gx_spoil, gy)\n",
    "\n",
    "    seq.add_block(pp.make_delay(1e-3))"
   ]
  },
  {
   "cell_type": "code",
   "execution_count": null,
   "metadata": {},
   "outputs": [],
   "source": [
    "ok, error_report = seq.check_timing()\n",
    "if ok:\n",
    "    print(\"Timing check passed successfully\")\n",
    "else:\n",
    "    print(\"Timing check failed:\")\n",
    "    [print(e, end=\"\") for e in error_report]\n",
    "\n",
    "seq.plot()\n",
    "\n",
    "seq.set_definition(\"FOV\", [fov, fov, slice_thickness])\n",
    "seq.set_definition(\"Name\", experiment_id)\n",
    "seq.write(experiment_id + \".seq\")"
   ]
  },
  {
   "cell_type": "code",
   "execution_count": null,
   "metadata": {},
   "outputs": [],
   "source": [
    "phantom = mr0.VoxelGridPhantom.brainweb(\"subject05.npz\")\n",
    "phantom = phantom.interpolate(64, 64, 32).slices([16])\n",
    "phantom.plot()\n",
    "data = phantom.build()"
   ]
  },
  {
   "cell_type": "code",
   "execution_count": null,
   "metadata": {
    "tags": [
     "hide-output"
    ]
   },
   "outputs": [],
   "source": [
    "seq = mr0.Sequence.import_file(experiment_id + \".seq\")\n",
    "seq.plot_kspace_trajectory()\n",
    "\n",
    "graph = mr0.compute_graph(seq, data, 200, 1e-3)\n",
    "signal = mr0.execute_graph(graph, seq, data, print_progress=False)"
   ]
  },
  {
   "cell_type": "code",
   "execution_count": null,
   "metadata": {},
   "outputs": [],
   "source": [
    "kspace = signal.view(n_phase, n_read)\n",
    "reco = torch.fft.fftshift(torch.fft.fft2(torch.fft.fftshift(kspace)))\n",
    "\n",
    "plt.figure()\n",
    "plt.imshow(reco.abs(), origin=\"lower\")\n",
    "plt.show()"
   ]
  }
 ],
 "metadata": {
  "kernelspec": {
   "display_name": "base",
   "language": "python",
   "name": "python3"
  },
  "language_info": {
   "codemirror_mode": {
    "name": "ipython",
    "version": 3
   },
   "file_extension": ".py",
   "mimetype": "text/x-python",
   "name": "python",
   "nbconvert_exporter": "python",
   "pygments_lexer": "ipython3",
   "version": "3.11.3"
  },
  "orig_nbformat": 4,
  "vscode": {
   "interpreter": {
    "hash": "88279d2366fe020547cde40dd65aa0e3aa662a6ec1f3ca12d88834876c85e1a6"
   }
  }
 },
 "nbformat": 4,
 "nbformat_minor": 2
}
