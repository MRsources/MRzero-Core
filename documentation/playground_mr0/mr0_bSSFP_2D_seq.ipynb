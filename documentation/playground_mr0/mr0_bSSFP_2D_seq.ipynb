{
  "cells": [
    {
      "cell_type": "markdown",
      "metadata": {
        "colab_type": "text",
        "id": "view-in-github"
      },
      "source": [
        "<a href=\"https://colab.research.google.com/github/MRsources/MRzero-Core/blob/main/documentation/playground_mr0/mr0_bSSFP_2D_seq.ipynb\" target=\"_parent\"><img src=\"https://colab.research.google.com/assets/colab-badge.svg\" alt=\"Open In Colab\"/></a>"
      ]
    },
    {
      "cell_type": "markdown",
      "metadata": {
        "id": "vTjDmgyofjbF",
        "tags": [
          "hide-cell"
        ]
      },
      "source": [
        "!pip install pypulseq &> /dev/null\n",
        "!pip install  torchkbnufft --no-deps\n",
        "!pip install MRzeroCore --no-deps\n",
        "!pip install pydisseqt\n",
        "\n",
        "!wget https://github.com/MRsources/MRzero-Core/raw/main/documentation/playground_mr0/numerical_brain_cropped.mat &> /dev/null\n",
        "!wget https://github.com/MRsources/MRzero-Core/raw/main/documentation/playground/quantified_brain.npz &> /dev/null"
      ]
    },
    {
      "cell_type": "markdown",
      "metadata": {
        "id": "W3tJv9e_3DeJ"
      },
      "source": [
        "(bSSFP_seq)=\n",
        "\n",
        "# Imports and definitions"
      ]
    },
    {
      "cell_type": "code",
      "execution_count": null,
      "metadata": {
        "colab": {
          "base_uri": "https://localhost:8080/"
        },
        "id": "RF9mp6_eSrLk",
        "outputId": "2336b4e7-d3a6-42ab-9960-87adbce1839f"
      },
      "outputs": [],
      "source": [
        "%reload_ext autoreload\n",
        "%autoreload 2\n",
        "import numpy as np\n",
        "import MRzeroCore as mr0\n",
        "import pypulseq as pp\n",
        "import torch\n",
        "import matplotlib.pyplot as plt\n",
        "\n",
        "plt.rcParams[\"figure.figsize\"] = [10, 5]\n",
        "plt.rcParams[\"figure.dpi\"] = 100  # 200 e.g. is really fine, but slower"
      ]
    },
    {
      "cell_type": "code",
      "execution_count": null,
      "metadata": {
        "colab": {
          "base_uri": "https://localhost:8080/",
          "height": 71
        },
        "id": "Fi-XWZZEhSN1",
        "outputId": "5f1348e2-44df-423c-d27e-8520cf0f8741"
      },
      "outputs": [],
      "source": [
        "# @title Define SSFP in PyPulseq\n",
        "# %% S2. DEFINE the sequence\n",
        "\n",
        "FAex = 60  # @param {type: \"slider\", min: 1, max: 180}\n",
        "P_alpha_half = True  # @param {type: \"boolean\"}\n",
        "TR_ms = 0  # @param {type: \"slider\", min: 0.0, max: 20, step:0.1}\n",
        "TR = TR_ms * 1e-3\n",
        "PEtype = \"linear\"  # @param ['centric', 'linear']\n",
        "PE_flag = True  # @param {type: \"boolean\"}\n",
        "TI = 0  # @param {type: \"slider\", min: 0, max: 5, step:0.1}\n",
        "\n",
        "# choose the scanner limits\n",
        "system = pp.Opts(\n",
        "    max_grad=40,\n",
        "    grad_unit=\"mT/m\",\n",
        "    max_slew=150,\n",
        "    slew_unit=\"T/m/s\",\n",
        "    rf_ringdown_time=20e-6,\n",
        "    rf_dead_time=100e-6,\n",
        "    adc_dead_time=20e-6,\n",
        "    grad_raster_time=10e-6,\n",
        ")\n",
        "Nread = 64\n",
        "Nphase = 64\n",
        "\n",
        "seq = pp.Sequence(system)\n",
        "\n",
        "# Define FOV and resolution\n",
        "fov = 200e-3\n",
        "slice_thickness = 8e-3\n",
        "\n",
        "# rf1 = pp.make_block_pulse(flip_angle=90 * np.pi / 180, duration=1e-3, system=system)\n",
        "\n",
        "fastest_grad = pp.make_extended_trapezoid_area(\n",
        "    area=(Nphase) / fov, channel=\"y\", grad_end=0.0, grad_start=0.0, system=system\n",
        ")\n",
        "min_gr_dur = fastest_grad[\n",
        "    0\n",
        "].shape_dur  # this is a first speedup test, in shoudl run with area=(Nphase/2)/fov, but only area=(Nphase)/fov worked\n",
        "\n",
        "dwell = 3e-05\n",
        "\n",
        "# Define other gradients and ADC events\n",
        "gx = pp.make_trapezoid(\n",
        "    channel=\"x\", flat_area=Nread / fov, flat_time=dwell * Nread, system=system\n",
        ")\n",
        "adc = pp.make_adc(\n",
        "    num_samples=Nread,\n",
        "    duration=dwell * Nread,\n",
        "    phase_offset=0 * np.pi / 180,\n",
        "    delay=gx.rise_time,\n",
        "    system=system,\n",
        ")\n",
        "gx_pre = pp.make_trapezoid(\n",
        "    channel=\"x\", area=-gx.area / 2, duration=min_gr_dur, system=system\n",
        ")\n",
        "gp = pp.make_trapezoid(channel=\"y\", area=1, duration=min_gr_dur, system=system)\n",
        "\n",
        "rf_phase = 0\n",
        "\n",
        "# Define rf events\n",
        "rf_IR = pp.make_block_pulse(\n",
        "    flip_angle=180 * np.pi / 180,\n",
        "    phase_offset=90 * np.pi / 180,\n",
        "    duration=0.5e-3,\n",
        "    system=system,\n",
        ")\n",
        "gz_spoil = pp.make_trapezoid(channel=\"z\", area=64, duration=1e-3, system=system)\n",
        "\n",
        "rfdur = 0.8e-3\n",
        "rf1, gz1, gzr1 = pp.make_sinc_pulse(\n",
        "    flip_angle=FAex * np.pi / 180,\n",
        "    duration=rfdur,\n",
        "    slice_thickness=slice_thickness,\n",
        "    apodization=0.5,\n",
        "    time_bw_product=4,\n",
        "    system=system,\n",
        "    return_gz=True,\n",
        ")\n",
        "\n",
        "rf0, gz0, gzr0 = pp.make_sinc_pulse(\n",
        "    flip_angle=FAex / 2 * np.pi / 180,\n",
        "    duration=rfdur,\n",
        "    slice_thickness=slice_thickness,\n",
        "    apodization=0.5,\n",
        "    time_bw_product=4,\n",
        "    system=system,\n",
        "    return_gz=True,\n",
        ")\n",
        "\n",
        "# ======\n",
        "# CONSTRUCT SEQUENCE\n",
        "# ======\n",
        "##linear reordering\n",
        "phenc = np.arange(-Nphase // 2, Nphase // 2, 1) / fov\n",
        "permvec = np.arange(0, Nphase, 1)\n",
        "## centric reordering\n",
        "if PEtype == \"centric\":\n",
        "    permvec = sorted(np.arange(len(phenc)), key=lambda x: abs(len(phenc) // 2 - x))\n",
        "## random reordering\n",
        "# perm =np.arange(0, Nphase, 1);  permvec = np.random.permutation(perm)\n",
        "\n",
        "phenc_centr = phenc[permvec] * PE_flag\n",
        "\n",
        "ktraj = np.array([])\n",
        "if TI > 0:\n",
        "    seq.add_block(rf_IR)\n",
        "    seq.add_block(gz_spoil)\n",
        "    seq.add_block(pp.make_delay(TI))\n",
        "\n",
        "seq.add_block(pp.make_delay(0.0015 - (rfdur / 2 + rf1.delay)))\n",
        "\n",
        "minTR = (\n",
        "    pp.calc_duration(gz1)\n",
        "    + pp.calc_duration(gx_pre, gp, gzr1)\n",
        "    + pp.calc_duration(gx)\n",
        "    + pp.calc_duration(gp, gx_pre, gzr1)\n",
        ")\n",
        "minTR2 = minTR / 2\n",
        "TRd = round(max(0, (TR / 2 - minTR2)) / 10e-5) * 10e-5  # round to raster time\n",
        "TR = 2 * (minTR2 + TRd)\n",
        "if TRd == 0:\n",
        "    print(\"rep. time set to minTR [ms]\", TR * 1000)\n",
        "else:\n",
        "    print(\" TR [ms]\", TR * 1000)\n",
        "\n",
        "if P_alpha_half:\n",
        "    seq.add_block(rf0, gz0)\n",
        "    seq.add_block(gzr0)\n",
        "    # last timing step is to add TR/2 between alpha half and first rf pulse\n",
        "    # from pulse top to pulse top we have already played out one full gz0 and 2*gzr0, thus we substract these from TR\n",
        "    seq.add_block(\n",
        "        pp.make_delay(minTR2 + TRd - pp.calc_duration(gz0) - 2 * pp.calc_duration(gzr0))\n",
        "    )  #  for balancing Gz is played out twice!\n",
        "    seq.add_block(gzr0)  #  balance Gz!\n",
        "for ii in range(0, Nphase):  # e.g. -64:63\n",
        "    rf_phase = divmod(rf_phase + 180, 360.0)[1]\n",
        "    rf1.phase_offset = (\n",
        "        rf_phase / 180 * np.pi\n",
        "    )  # set current rf phase, 180° alternating phase cycling\n",
        "    adc.phase_offset = rf_phase / 180 * np.pi  # follow with ADC\n",
        "\n",
        "    ktraj = np.append(ktraj, phenc_centr[ii])\n",
        "    seq.add_block(rf1, gz1)\n",
        "    gp = pp.make_trapezoid(\n",
        "        channel=\"y\", area=phenc_centr[ii], duration=min_gr_dur, system=system\n",
        "    )\n",
        "    seq.add_block(pp.make_delay(TRd))\n",
        "    seq.add_block(gx_pre, gp, gzr1)\n",
        "    seq.add_block(adc, gx, pp.make_label(label=\"LIN\", type=\"SET\", value=ii))\n",
        "    gp = pp.make_trapezoid(\n",
        "        channel=\"y\", area=-phenc_centr[ii], duration=min_gr_dur, system=system\n",
        "    )\n",
        "    seq.add_block(gx_pre, gp, gzr1)  #  balance Gz!\n",
        "    seq.add_block(pp.make_delay(TRd))\n",
        "    # full pulse            delay of rf2 -ringdown rf1  + TR_delay + RO/2\n",
        "# %% S3. CHECK, PLOT and WRITE the sequence  as .seq\n",
        "# Check whether the timing of the sequence is correct\n",
        "ok, error_report = seq.check_timing()\n",
        "if ok:\n",
        "    print(\"Timing check passed successfully\")\n",
        "else:\n",
        "    print(\"Timing check failed. Error listing follows:\")\n",
        "    [print(e) for e in error_report]\n",
        "\n",
        "# PLOT sequence\n",
        "# sp_adc, t_adc = mr0.util.pulseq_plot(seq, clear=False, figid=(11,12))\n",
        "\n",
        "# Prepare the sequence output for the scanner\n",
        "seq.set_definition(\"FOV\", [fov, fov, slice_thickness])\n",
        "seq.set_definition(\"RES\", [Nread, Nphase, 1])\n",
        "seq.write(\"external.seq\")\n"
      ]
    },
    {
      "cell_type": "code",
      "execution_count": null,
      "metadata": {
        "colab": {
          "base_uri": "https://localhost:8080/",
          "height": 949
        },
        "id": "FfUk0XXkmlhz",
        "outputId": "15a3eb4a-8ef3-41e7-e3a8-3a00939de0f0"
      },
      "outputs": [],
      "source": [
        "seq.plot(time_range=(0, 600 * TR))"
      ]
    },
    {
      "cell_type": "markdown",
      "metadata": {
        "id": "cC5lov9X3JJp"
      },
      "source": [
        "# RUNs"
      ]
    },
    {
      "cell_type": "code",
      "execution_count": null,
      "metadata": {
        "colab": {
          "base_uri": "https://localhost:8080/",
          "height": 1000
        },
        "id": "Ajse93sbUuf8",
        "outputId": "564342ac-6cb9-4b79-cf6a-13b3a1c8d5e8"
      },
      "outputs": [],
      "source": [
        "# @title S3 quick 2D brain phantom sim and plot\n",
        "# signal = mr0.util.simulate_2d(seq)\n",
        "# signal   = mr0.util.simulate_2d(seq,B0_scale=2, B0_polynomial=(0,0,-150,0,0,300))\n",
        "# seq.plot(plot_now=False,time_range=(0,2.5*TE))\n",
        "data = mr0.util.load_phantom(\n",
        "    size=(64, 64), dB0_fB0=(0, 2), B0_polynomial=[0, 0, -150, 0, 0, 300]\n",
        ")\n",
        "signal, _ = mr0.util.simulate(seq, data)\n",
        "seq.plot(plot_now=False)\n",
        "mr0.util.insert_signal_plot(seq=seq, signal=signal.numpy())\n",
        "# Get figure handles\n",
        "fig_handles = plt.get_fignums()\n",
        "\n",
        "# Iterate and save each figure\n",
        "for fig_num in fig_handles:\n",
        "    plt.figure(fig_num)\n",
        "    plt.savefig(f\"bssfp_seq_{fig_num}.png\", format=\"png\")\n",
        "\n",
        "plt.show()\n"
      ]
    },
    {
      "cell_type": "code",
      "execution_count": null,
      "metadata": {},
      "outputs": [],
      "source": [
        "# @title Write to MRD\n",
        "import ismrmrd\n",
        "\n",
        "mr0.sig_to_mrd(\"mr_zero.mrd\", signal, seq, verbose=1)"
      ]
    },
    {
      "cell_type": "code",
      "execution_count": null,
      "metadata": {},
      "outputs": [],
      "source": [
        "# @title Load from MRD\n",
        "\n",
        "dset = ismrmrd.Dataset(\"mr_zero.mrd\", \"dataset\", create_if_needed=False)\n",
        "\n",
        "mrd_header = ismrmrd.xsd.CreateFromDocument(dset.read_xml_header())\n",
        "\n",
        "mrd_data_shape = (\n",
        "    mrd_header.encoding[0].encodedSpace.matrixSize.x,\n",
        "    mrd_header.encoding[0].encodedSpace.matrixSize.y,\n",
        "    mrd_header.acquisitionSystemInformation.receiverChannels,\n",
        ")\n",
        "\n",
        "mrd_data = np.zeros(mrd_data_shape, dtype=np.complex64)\n",
        "num_acq = dset.number_of_acquisitions()\n",
        "for n_acq in range(num_acq):\n",
        "    acq = dset.read_acquisition(n_acq)\n",
        "    acq_head = acq.getHead()\n",
        "    n_lin = acq_head.idx.kspace_encode_step_1\n",
        "\n",
        "    mrd_data[:, n_lin, :] = acq.data.T\n"
      ]
    },
    {
      "cell_type": "code",
      "execution_count": null,
      "metadata": {},
      "outputs": [],
      "source": [
        "# %% S4: MR IMAGE RECON of signal ::: #####################################\n",
        "# kspace_adc = torch.reshape(signal, (Nphase, Nread)).clone().t()\n",
        "# permvec = np.argsort(ktraj)\n",
        "# kspace = kspace_adc[:, permvec]\n",
        "\n",
        "kspace = torch.from_numpy(mrd_data)\n",
        "kspace = kspace[..., 0]  # take only first channel\n",
        "\n",
        "# fftshift,FFT,fftshift\n",
        "spectrum = torch.fft.fftshift(kspace, dim=(0, 1))\n",
        "space = torch.fft.fft2(spectrum, dim=(0, 1))\n",
        "space = torch.fft.ifftshift(space, dim=(0, 1))\n",
        "\n",
        "plt.subplot(221)\n",
        "plt.title(\"k-space\")\n",
        "mr0.util.imshow(np.abs(kspace.numpy()), cmap=\"gray\")\n",
        "plt.subplot(223)\n",
        "plt.title(\"k-space_r\")\n",
        "mr0.util.imshow(np.log(np.abs(kspace.numpy())))\n",
        "\n",
        "plt.subplot(222)\n",
        "plt.title(\"FFT-magnitude\")\n",
        "mr0.util.imshow(np.abs(space.numpy()))\n",
        "plt.colorbar()\n",
        "plt.subplot(224)\n",
        "plt.title(\"FFT-phase\")\n",
        "mr0.util.imshow(np.angle(space.numpy()), vmin=-np.pi, vmax=np.pi, cmap=\"twilight\")\n",
        "plt.colorbar()\n"
      ]
    },
    {
      "cell_type": "code",
      "execution_count": null,
      "metadata": {
        "colab": {
          "base_uri": "https://localhost:8080/"
        },
        "id": "JmnAoUzXBuLi",
        "outputId": "a57ecb00-1e1a-4ab1-cf3b-3db0fa436bc9"
      },
      "outputs": [],
      "source": [
        "import time\n",
        "\n",
        "\n",
        "acc_array = [0.6, 0.5, 0.4, 0.2, 0.1, 0.05, 0.02, 0.01, 0.005, 0.001, 0.00001]\n",
        "dt = np.zeros(len(acc_array))\n",
        "\n",
        "space_3d = np.zeros(\n",
        "    (len(acc_array), Nread, Nphase), dtype=np.complex128\n",
        ")  # Adjust dimensions if needed\n",
        "\n",
        "for i, acc in enumerate(acc_array):\n",
        "    t0 = time.time()\n",
        "    signal, _ = mr0.util.simulate(seq, data, accuracy=acc)\n",
        "    t1 = time.time()\n",
        "    dt[i] = t1 - t0\n",
        "\n",
        "    kspace_adc = torch.reshape(signal, (Nphase, Nread)).T.clone()\n",
        "    kspace = kspace_adc[:, np.argsort(ktraj)]\n",
        "    # fftshift,FFT,fftshift\n",
        "    space = torch.fft.ifftshift(torch.fft.fft2(torch.fft.fftshift(kspace)))\n",
        "    space_3d[i] = space.numpy()  # Assuming 'space' is a PyTorch tensor\n",
        "    print(f\"Iteration {i + 1} with accuracy {acc:.6f} completed.\")\n",
        "\n",
        "print(\"All iterations finished. Data stored in 'space_3d'.\")\n",
        "\n",
        "plt.show()"
      ]
    },
    {
      "cell_type": "code",
      "execution_count": null,
      "metadata": {
        "colab": {
          "base_uri": "https://localhost:8080/",
          "height": 398
        },
        "id": "zzYTp_XrIQgT",
        "outputId": "fee78427-5da4-4114-d576-49c5d8ff7151"
      },
      "outputs": [],
      "source": [
        "fig, axes = plt.subplots(2, 5, figsize=(15, 6))  # 2 rows, 5 columns for 10 images\n",
        "axes = axes.flatten()  # Flatten to a 1D array for easy iteration\n",
        "\n",
        "# Assuming 'space_3d' is your 3D array of complex images\n",
        "reference_image = np.abs(space_3d[-1])  # Last image as reference\n",
        "vmax = np.max(np.abs(reference_image))\n",
        "\n",
        "for i, ax in enumerate(axes):\n",
        "    image = np.abs(space_3d[i])  # Absolute value of the current image\n",
        "    rmse = np.sqrt(np.mean((image - reference_image) ** 2))  # Calculate RMSE\n",
        "    ax.imshow(image.T, origin=\"lower\", cmap=\"gray\", vmax=vmax)\n",
        "    ax.set_title(f\"E: {rmse:.0f}, t:{dt[i]:.2f}, acc: {acc_array[i]:.4f}\")\n",
        "    ax.axis(\"off\")\n",
        "\n",
        "\n",
        "plt.tight_layout()\n"
      ]
    },
    {
      "cell_type": "markdown",
      "metadata": {
        "id": "GubngPl84StL"
      },
      "source": [
        "### Compare to existing reference\n",
        "\n",
        "The next code just compares the outcome for different accuracies with a reference acquired in feb 2025 on CPU!\n",
        "\n",
        "Data accuracies should be zero.\n",
        "\n",
        "run time can vary, for the highest accuracy time discrepancy of ~(0.6511 %) was found in out test."
      ]
    },
    {
      "cell_type": "code",
      "execution_count": null,
      "metadata": {
        "colab": {
          "base_uri": "https://localhost:8080/"
        },
        "id": "l0rfPf-vupud",
        "outputId": "4f09ca6c-6011-433f-e80d-a69a3e0a3740"
      },
      "outputs": [],
      "source": [
        "!wget https://github.com/MRsources/MRzero-Core/raw/refs/heads/main/documentation/playground_mr0/reference_bssfp_data_feb2025.npz &> /dev/null\n",
        "\n",
        "if 0:  # code used for storing the reference\n",
        "    import os\n",
        "    import numpy as np\n",
        "\n",
        "    # Create directory if it doesn't exist\n",
        "    data_to_save = {\"space_3d\": space_3d, \"dt\": dt, \"acc_array\": np.array(acc_array)}\n",
        "    np.savez(\"reference_bssfp_data_feb2025.npz\", **data_to_save)\n",
        "\n",
        "if 1:  # get stored reference\n",
        "    with np.load(\"reference_bssfp_data_feb2025.npz\") as data:\n",
        "        space_3d_ref = data[\"space_3d\"]\n",
        "        dt_ref = data[\"dt\"]\n",
        "        acc_array_ref = data[\"acc_array\"]\n",
        "\n",
        "print(\"Acc. \\tMag_nrmse\\tPhase_nrmse\\ttnow \\ttref \\t(dt[s,%])\")\n",
        "for ii in range(len(acc_array)):\n",
        "    # Compute absolute magnitude RMSE for space vs. space_wget\n",
        "    abs_space_error = np.sqrt(\n",
        "        np.mean((np.abs(space_3d[ii]) - np.abs(space_3d_ref[ii])) ** 2)\n",
        "    ) / np.mean(np.abs(space_3d[ii]))\n",
        "\n",
        "    # Compute phase RMSE for space vs. space_wget\n",
        "    phase_space_error = np.sqrt(\n",
        "        np.mean((np.angle(space_3d[ii]) - np.angle(space_3d_ref[ii])) ** 2)\n",
        "    )\n",
        "\n",
        "    # Compute RMSE for dt vs. dt_wget as direct difference\n",
        "    e_dt_s = dt[ii] - dt_ref[ii]\n",
        "    e_dt_r = abs((dt[ii] - dt_ref[ii])) / dt_ref[ii] * 100\n",
        "\n",
        "    # print(f\"Acc: {acc_array[ii]:.5f} -> Mag_rmse: {abs_space_error:.4f}, Phase_rmse: {phase_space_error:.4f}, run time: {e_dt:.4f}\")\n",
        "    print(\n",
        "        f\"{acc_array[ii]:.5f}\\t{abs_space_error:.4f}\\t\\t{phase_space_error:.4f}\\t\\t{dt[ii]:.3f}s\\t{dt_ref[ii]:.3f}s\\t{e_dt_s:2.4f} ({e_dt_r:.4f} %)\"\n",
        "    )\n"
      ]
    },
    {
      "cell_type": "code",
      "execution_count": null,
      "metadata": {},
      "outputs": [],
      "source": []
    },
    {
      "cell_type": "code",
      "execution_count": null,
      "metadata": {},
      "outputs": [],
      "source": []
    }
  ],
  "metadata": {
    "accelerator": "GPU",
    "colab": {
      "gpuType": "T4",
      "include_colab_link": true,
      "provenance": []
    },
    "kernelspec": {
      "display_name": "test_mr0",
      "language": "python",
      "name": "python3"
    },
    "language_info": {
      "codemirror_mode": {
        "name": "ipython",
        "version": 3
      },
      "file_extension": ".py",
      "mimetype": "text/x-python",
      "name": "python",
      "nbconvert_exporter": "python",
      "pygments_lexer": "ipython3",
      "version": "3.12.10"
    }
  },
  "nbformat": 4,
  "nbformat_minor": 0
}
