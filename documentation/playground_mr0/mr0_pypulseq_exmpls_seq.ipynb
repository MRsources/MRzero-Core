{
 "cells": [
  {
   "cell_type": "code",
   "execution_count": null,
   "metadata": {
    "executionInfo": {
     "elapsed": 38992,
     "status": "ok",
     "timestamp": 1696783114404,
     "user": {
      "displayName": "Jonathan Endres",
      "userId": "15767859839481375594"
     },
     "user_tz": -120
    },
    "id": "vTjDmgyofjbF",
    "tags": [
     "hide-cell"
    ]
   },
   "outputs": [],
   "source": [
    "!pip install pypulseq==1.3.1.post1 &> /dev/null\n",
    "!pip install MRzeroCore &> /dev/null\n",
    "!pip install ismrmrd\n",
    "\n",
    "!wget https://github.com/MRsources/MRzero-Core/raw/main/documentation/playground_mr0/numerical_brain_cropped.mat &> /dev/null"
   ]
  },
  {
   "cell_type": "code",
   "execution_count": null,
   "metadata": {},
   "outputs": [],
   "source": [
    "# @title On Google Colab, you need to restart the runtime after executing this cell\n",
    "!pip install numpy==1.24"
   ]
  },
  {
   "cell_type": "markdown",
   "metadata": {
    "id": "kW_eOCdVUzNa"
   },
   "source": [
    "(mr0_pypulseq_example)=\n",
    "# Simulate pypulseq example files\n",
    "here the pypulseq example files from pypulseq/seq_examples.scripts"
   ]
  },
  {
   "cell_type": "code",
   "execution_count": null,
   "metadata": {
    "colab": {
     "base_uri": "https://localhost:8080/",
     "height": 1000
    },
    "executionInfo": {
     "elapsed": 107037,
     "status": "ok",
     "timestamp": 1696783221437,
     "user": {
      "displayName": "Jonathan Endres",
      "userId": "15767859839481375594"
     },
     "user_tz": -120
    },
    "id": "O-_sr6lZjR_n",
    "outputId": "5c4cd1fa-718f-46d6-f0fc-f52cfd74385f",
    "tags": [
     "hide-output"
    ]
   },
   "outputs": [],
   "source": [
    "#@title 1.a choose pypulseq example seq files (first call generates them)\n",
    "import numpy as np\n",
    "# newer numpy versions don't contain this, but pypulseq still relies on it\n",
    "np.int = int\n",
    "np.float = float\n",
    "np.complex = complex\n",
    "\n",
    "# Only build some for faster doc build, you can uncomment all\n",
    "# from pypulseq.seq_examples.scripts import write_epi\n",
    "# from pypulseq.seq_examples.scripts import write_epi_se\n",
    "# from pypulseq.seq_examples.scripts import write_epi_se_rs\n",
    "from pypulseq.seq_examples.scripts import write_gre\n",
    "# from pypulseq.seq_examples.scripts import write_gre_label\n",
    "# from pypulseq.seq_examples.scripts import write_haste\n",
    "# from pypulseq.seq_examples.scripts import write_tse\n",
    "# from pypulseq.seq_examples.scripts import write_ute\n",
    "\n",
    "#@title choose pypulseq example\n",
    "seq_file = \"gre_pypulseq.seq\" #@param [\"epi_pypulseq.seq\", \"epi_se_pypulseq.seq\", \"epi_se_rs_pypulseq.seq\", \"gre_pypulseq.seq\", \"gre_label_pypulseq.seq\", \"haste_pypulseq.seq\", \"tse_pypulseq.seq\", \"ute_pypulseq.seq\"] {allow-input: true}"
   ]
  },
  {
   "cell_type": "code",
   "execution_count": null,
   "metadata": {
    "colab": {
     "base_uri": "https://localhost:8080/",
     "height": 1000
    },
    "executionInfo": {
     "elapsed": 57193,
     "status": "ok",
     "timestamp": 1696783278618,
     "user": {
      "displayName": "Jonathan Endres",
      "userId": "15767859839481375594"
     },
     "user_tz": -120
    },
    "id": "HTYTghFLjeCY",
    "outputId": "dcad0089-5a06-4034-bff4-12799c7cf422"
   },
   "outputs": [],
   "source": [
    "#@title 2. simulate for brain phantom\n",
    "import MRzeroCore as mr0\n",
    "import pypulseq as pp\n",
    "import torch\n",
    "import matplotlib.pyplot as plt\n",
    "\n",
    "plt.rcParams['figure.figsize'] = [10, 5]\n",
    "plt.rcParams['figure.dpi'] = 100 # 200 e.g. is really fine, but slower\n",
    "\n",
    "seq = pp.Sequence()\n",
    "seq.read(seq_file)\n",
    "\n",
    "print('load phantom')\n",
    "# %% S4: SETUP SPIN SYSTEM/object on which we can run the MR sequence external.seq from above\n",
    "sz = [64, 64]\n",
    "obj_p = mr0.VoxelGridPhantom.load_mat('numerical_brain_cropped.mat')\n",
    "brain_phantom_res = 64 #@param {type:\"slider\", min:16, max:128, step:16}\n",
    "obj_p = obj_p.interpolate(brain_phantom_res, brain_phantom_res, 1)\n",
    "obj_p.B0[:] = 0\n",
    "plot_phantom = True #@param {type:\"boolean\"}\n",
    "if plot_phantom: obj_p.plot()\n",
    "\n",
    "obj_p = obj_p.build()\n",
    "print('simulate (2D) \\n' + seq_file)\n",
    "seq0 = mr0.Sequence.import_file(seq_file)\n",
    "# seq0.plot_kspace_trajectory()"
   ]
  },
  {
   "cell_type": "code",
   "execution_count": null,
   "metadata": {
    "tags": []
   },
   "outputs": [],
   "source": [
    "# Simulate the sequence\n",
    "\n",
    "graph = mr0.compute_graph(seq0, obj_p, 200, 1e-3)\n",
    "signal = mr0.execute_graph(graph, seq0, obj_p, print_progress=False)\n",
    "#@title 3. Plot sequence and signal\n",
    "sp_adc, t_adc = mr0.util.pulseq_plot(seq=seq,signal=signal.numpy())\n",
    "\n",
    "# Unfortunately, we need to limit the resolution as reco_adjoint is very RAM-hungy\n",
    "print('reconstruct and plot')\n",
    "seq0.plot_kspace_trajectory()\n",
    "\n",
    "reco = mr0.reco_adjoint(signal, seq0.get_kspace(), resolution=(64, 64, 1), FOV=(0.22, 0.22, 1))\n",
    "plt.figure()\n",
    "plt.subplot(121)\n",
    "plt.title(\"Magnitude\")\n",
    "plt.imshow(reco[:, :, 0].T.abs(), origin=\"lower\")\n",
    "plt.colorbar()\n",
    "plt.subplot(122)\n",
    "plt.title(\"Phase\")\n",
    "plt.imshow(reco[:, :, 0].T.angle(), origin=\"lower\", vmin=-np.pi, vmax=np.pi)\n",
    "plt.colorbar()\n",
    "plt.show()"
   ]
  }
 ],
 "metadata": {
  "colab": {
   "provenance": [
    {
     "file_id": "1uTk3lc-O3xZS-rLDSkOLEYVV1rM0UTDJ",
     "timestamp": 1676904915190
    },
    {
     "file_id": "1lnFKubthQBxkz19cY7ScS-S0Hj9vHjEj",
     "timestamp": 1676708491940
    }
   ]
  },
  "kernelspec": {
   "display_name": "Python 3",
   "name": "python3"
  },
  "language_info": {
   "codemirror_mode": {
    "name": "ipython",
    "version": 3
   },
   "file_extension": ".py",
   "mimetype": "text/x-python",
   "name": "python",
   "nbconvert_exporter": "python",
   "pygments_lexer": "ipython3",
   "version": "3.11.4"
  }
 },
 "nbformat": 4,
 "nbformat_minor": 0
}
